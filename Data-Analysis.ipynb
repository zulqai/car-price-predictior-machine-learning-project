{
 "cells": [
  {
   "cell_type": "code",
   "execution_count": 1,
   "id": "c8950eac-040b-401d-b7ca-cb87c8df747b",
   "metadata": {},
   "outputs": [],
   "source": [
    "a = 5"
   ]
  },
  {
   "cell_type": "code",
   "execution_count": 2,
   "id": "5889737f-5727-49a8-8707-6c846232ebd9",
   "metadata": {},
   "outputs": [
    {
     "data": {
      "text/plain": [
       "5"
      ]
     },
     "execution_count": 2,
     "metadata": {},
     "output_type": "execute_result"
    }
   ],
   "source": [
    "a"
   ]
  },
  {
   "cell_type": "code",
   "execution_count": 10,
   "id": "320e06c9-0d79-42da-a933-069b0e443be3",
   "metadata": {},
   "outputs": [],
   "source": [
    "import numpy as np\n",
    "data = [np.random.standard_normal() for i in range(7)]"
   ]
  },
  {
   "cell_type": "code",
   "execution_count": 11,
   "id": "1a95d150-0f1e-4782-a57a-2bfb468bfc83",
   "metadata": {},
   "outputs": [
    {
     "data": {
      "text/plain": [
       "[-0.8902534204331054,\n",
       " -1.2831769789698102,\n",
       " 0.3830370897429815,\n",
       " 0.45529827707105713,\n",
       " -0.4790087560132244,\n",
       " -0.29982664736120884,\n",
       " -1.0922744893045515]"
      ]
     },
     "execution_count": 11,
     "metadata": {},
     "output_type": "execute_result"
    }
   ],
   "source": [
    "data"
   ]
  },
  {
   "cell_type": "code",
   "execution_count": 12,
   "id": "032ab69a-f4ad-4783-b23e-3e96ed1c3991",
   "metadata": {},
   "outputs": [],
   "source": [
    "an_apple = 27\n",
    "an_example = 42"
   ]
  },
  {
   "cell_type": "code",
   "execution_count": 14,
   "id": "6aad7d07-f66d-41b6-985a-5cb482d51178",
   "metadata": {},
   "outputs": [
    {
     "data": {
      "text/plain": [
       "(27, 42)"
      ]
     },
     "execution_count": 14,
     "metadata": {},
     "output_type": "execute_result"
    }
   ],
   "source": [
    "an_apple, an_example"
   ]
  },
  {
   "cell_type": "code",
   "execution_count": 15,
   "id": "e5ca3088-820a-4132-aa5e-36764ea86792",
   "metadata": {},
   "outputs": [
    {
     "data": {
      "text/plain": [
       "<function list.copy()>"
      ]
     },
     "execution_count": 15,
     "metadata": {},
     "output_type": "execute_result"
    }
   ],
   "source": [
    "b = [1,2,3]\n",
    "b.copy"
   ]
  },
  {
   "cell_type": "code",
   "execution_count": 18,
   "id": "25a17cda-32d6-4649-b814-5eadad5dcba0",
   "metadata": {},
   "outputs": [],
   "source": [
    "import datetime\n",
    "a = datetime.date"
   ]
  },
  {
   "cell_type": "code",
   "execution_count": 19,
   "id": "d325c8f9-5fc8-4c33-a13c-f1386e81be60",
   "metadata": {},
   "outputs": [
    {
     "data": {
      "text/plain": [
       "\u001b[1;31mType:\u001b[0m        list\n",
       "\u001b[1;31mString form:\u001b[0m [1, 2, 3]\n",
       "\u001b[1;31mLength:\u001b[0m      3\n",
       "\u001b[1;31mDocstring:\u001b[0m  \n",
       "Built-in mutable sequence.\n",
       "\n",
       "If no argument is given, the constructor creates a new empty list.\n",
       "The argument must be an iterable if specified."
      ]
     },
     "metadata": {},
     "output_type": "display_data"
    }
   ],
   "source": [
    "b?"
   ]
  },
  {
   "cell_type": "code",
   "execution_count": 20,
   "id": "62dd2184-40a8-4ab4-a6cc-9b205188f614",
   "metadata": {},
   "outputs": [
    {
     "data": {
      "text/plain": [
       "\u001b[1;31mSignature:\u001b[0m \u001b[0mprint\u001b[0m\u001b[1;33m(\u001b[0m\u001b[1;33m*\u001b[0m\u001b[0margs\u001b[0m\u001b[1;33m,\u001b[0m \u001b[0msep\u001b[0m\u001b[1;33m=\u001b[0m\u001b[1;34m' '\u001b[0m\u001b[1;33m,\u001b[0m \u001b[0mend\u001b[0m\u001b[1;33m=\u001b[0m\u001b[1;34m'\\n'\u001b[0m\u001b[1;33m,\u001b[0m \u001b[0mfile\u001b[0m\u001b[1;33m=\u001b[0m\u001b[1;32mNone\u001b[0m\u001b[1;33m,\u001b[0m \u001b[0mflush\u001b[0m\u001b[1;33m=\u001b[0m\u001b[1;32mFalse\u001b[0m\u001b[1;33m)\u001b[0m\u001b[1;33m\u001b[0m\u001b[1;33m\u001b[0m\u001b[0m\n",
       "\u001b[1;31mDocstring:\u001b[0m\n",
       "Prints the values to a stream, or to sys.stdout by default.\n",
       "\n",
       "sep\n",
       "  string inserted between values, default a space.\n",
       "end\n",
       "  string appended after the last value, default a newline.\n",
       "file\n",
       "  a file-like object (stream); defaults to the current sys.stdout.\n",
       "flush\n",
       "  whether to forcibly flush the stream.\n",
       "\u001b[1;31mType:\u001b[0m      builtin_function_or_method"
      ]
     },
     "metadata": {},
     "output_type": "display_data"
    }
   ],
   "source": [
    "print?"
   ]
  },
  {
   "cell_type": "code",
   "execution_count": 25,
   "id": "6fa0d9c7-a642-41ca-80ee-32876be3043b",
   "metadata": {},
   "outputs": [],
   "source": [
    "def add_numbers(a,b):\n",
    "    '''\n",
    "    Add two numbers together\n",
    "    Returns\n",
    "    --------\n",
    "    the sum type of arguments\n",
    "    '''\n",
    "    return a+b"
   ]
  },
  {
   "cell_type": "code",
   "execution_count": 26,
   "id": "227f2c9d-01d8-4332-a6e2-2e82dc7fe415",
   "metadata": {},
   "outputs": [
    {
     "data": {
      "text/plain": [
       "\u001b[1;31mSignature:\u001b[0m \u001b[0madd_numbers\u001b[0m\u001b[1;33m(\u001b[0m\u001b[0ma\u001b[0m\u001b[1;33m,\u001b[0m \u001b[0mb\u001b[0m\u001b[1;33m)\u001b[0m\u001b[1;33m\u001b[0m\u001b[1;33m\u001b[0m\u001b[0m\n",
       "\u001b[1;31mDocstring:\u001b[0m\n",
       "Add two numbers together\n",
       "Returns\n",
       "--------\n",
       "the sum type of arguments\n",
       "\u001b[1;31mFile:\u001b[0m      c:\\users\\pakistan traders\\appdata\\local\\temp\\ipykernel_9436\\697120198.py\n",
       "\u001b[1;31mType:\u001b[0m      function"
      ]
     },
     "metadata": {},
     "output_type": "display_data"
    }
   ],
   "source": [
    "add_numbers?"
   ]
  },
  {
   "cell_type": "code",
   "execution_count": 30,
   "id": "e5bd18c9-bf86-42e7-82e0-ec0f06dc0326",
   "metadata": {},
   "outputs": [
    {
     "data": {
      "text/plain": [
       "np.__loader__\n",
       "np.load\n",
       "np.loadtxt"
      ]
     },
     "metadata": {},
     "output_type": "display_data"
    }
   ],
   "source": [
    "import numpy as np\n",
    "np.*load*?"
   ]
  },
  {
   "cell_type": "code",
   "execution_count": 32,
   "id": "1ac3d427-c7c4-4f22-8192-736eba00554f",
   "metadata": {},
   "outputs": [
    {
     "data": {
      "text/plain": [
       "np.__format__\n",
       "np.__former_attrs__\n",
       "np.__name__\n",
       "np.amax\n",
       "np.amin\n",
       "np.argmax\n",
       "np.argmin\n",
       "np.asmatrix\n",
       "np.blackman\n",
       "np.bmat\n",
       "np.column_stack\n",
       "np.common_type\n",
       "np.compare_chararrays\n",
       "np.compat\n",
       "np.complex128\n",
       "np.complex64\n",
       "np.complex_\n",
       "np.complexfloating\n",
       "np.compress\n",
       "np.cumprod\n",
       "np.cumproduct\n",
       "np.cumsum\n",
       "np.datetime64\n",
       "np.datetime_as_string\n",
       "np.datetime_data\n",
       "np.diag_indices_from\n",
       "np.divmod\n",
       "np.einsum\n",
       "np.einsum_path\n",
       "np.emath\n",
       "np.empty\n",
       "np.empty_like\n",
       "np.euler_gamma\n",
       "np.expand_dims\n",
       "np.expm1\n",
       "np.find_common_type\n",
       "np.fmax\n",
       "np.fmin\n",
       "np.fmod\n",
       "np.format_float_positional\n",
       "np.format_float_scientific\n",
       "np.format_parser\n",
       "np.from_dlpack\n",
       "np.frombuffer\n",
       "np.fromfile\n",
       "np.fromfunction\n",
       "np.fromiter\n",
       "np.frompyfunc\n",
       "np.fromregex\n",
       "np.fromstring\n",
       "np.genfromtxt\n",
       "np.geomspace\n",
       "np.hamming\n",
       "np.histogram\n",
       "np.histogram2d\n",
       "np.histogram_bin_edges\n",
       "np.histogramdd\n",
       "np.imag\n",
       "np.iscomplex\n",
       "np.iscomplexobj\n",
       "np.lcm\n",
       "np.longcomplex\n",
       "np.ma\n",
       "np.mask_indices\n",
       "np.mat\n",
       "np.matmul\n",
       "np.matrix\n",
       "np.max\n",
       "np.maximum\n",
       "np.maximum_sctype\n",
       "np.may_share_memory\n",
       "np.mean\n",
       "np.median\n",
       "np.memmap\n",
       "np.meshgrid\n",
       "np.mgrid\n",
       "np.min\n",
       "np.min_scalar_type\n",
       "np.minimum\n",
       "np.mintypecode\n",
       "np.mod\n",
       "np.modf\n",
       "np.moveaxis\n",
       "np.msort\n",
       "np.multiply\n",
       "np.nan_to_num\n",
       "np.nanargmax\n",
       "np.nanargmin\n",
       "np.nancumprod\n",
       "np.nancumsum\n",
       "np.nanmax\n",
       "np.nanmean\n",
       "np.nanmedian\n",
       "np.nanmin\n",
       "np.nansum\n",
       "np.ndenumerate\n",
       "np.ndim\n",
       "np.numarray\n",
       "np.number\n",
       "np.oldnumeric\n",
       "np.polymul\n",
       "np.polynomial\n",
       "np.promote_types\n",
       "np.putmask\n",
       "np.random\n",
       "np.ravel_multi_index\n",
       "np.recfromcsv\n",
       "np.recfromtxt\n",
       "np.remainder\n",
       "np.savez_compressed\n",
       "np.set_numeric_ops\n",
       "np.shares_memory\n",
       "np.show_runtime\n",
       "np.singlecomplex\n",
       "np.sometrue\n",
       "np.sort_complex\n",
       "np.sum\n",
       "np.timedelta64\n",
       "np.tracemalloc_domain\n",
       "np.tril_indices_from\n",
       "np.trim_zeros\n",
       "np.triu_indices_from\n",
       "np.typename"
      ]
     },
     "metadata": {},
     "output_type": "display_data"
    }
   ],
   "source": [
    "np.*m*?"
   ]
  },
  {
   "cell_type": "code",
   "execution_count": null,
   "id": "f3f0a8be-3a6e-40ed-b252-7878c6b884f3",
   "metadata": {},
   "outputs": [],
   "source": []
  },
  {
   "cell_type": "code",
   "execution_count": 14,
   "id": "60b518ce-c055-4308-8136-42a47c4b7255",
   "metadata": {
    "scrolled": true
   },
   "outputs": [],
   "source": [
    "def add_numbers(a,b):\n",
    "    '''\n",
    "    Add two numbers together\n",
    "    Returns\n",
    "    --------\n",
    "    the sum type of arguments\n",
    "    '''\n",
    "    return a+b"
   ]
  },
  {
   "cell_type": "code",
   "execution_count": 15,
   "id": "2aadb04c-4532-484c-8465-de026411e294",
   "metadata": {},
   "outputs": [
    {
     "data": {
      "text/plain": [
       "15"
      ]
     },
     "execution_count": 15,
     "metadata": {},
     "output_type": "execute_result"
    }
   ],
   "source": [
    "add_numbers(5,10)"
   ]
  },
  {
   "cell_type": "code",
   "execution_count": 54,
   "id": "c69cfbe4-c2ca-40c3-be0b-86811653ccaa",
   "metadata": {},
   "outputs": [],
   "source": [
    "a = [1,2,3]\n"
   ]
  },
  {
   "cell_type": "code",
   "execution_count": 55,
   "id": "c59fc2bc-ebe0-4f01-b672-e1e8a33703da",
   "metadata": {},
   "outputs": [],
   "source": [
    "b = a"
   ]
  },
  {
   "cell_type": "code",
   "execution_count": 56,
   "id": "ccec633c-e33b-4645-a5f9-2fb04e7d5079",
   "metadata": {},
   "outputs": [
    {
     "data": {
      "text/plain": [
       "[1, 2, 3]"
      ]
     },
     "execution_count": 56,
     "metadata": {},
     "output_type": "execute_result"
    }
   ],
   "source": [
    "b"
   ]
  },
  {
   "cell_type": "code",
   "execution_count": 57,
   "id": "85080016-685f-4c13-afe7-2280d1b7e17e",
   "metadata": {},
   "outputs": [
    {
     "data": {
      "text/plain": [
       "[1, 2, 3]"
      ]
     },
     "execution_count": 57,
     "metadata": {},
     "output_type": "execute_result"
    }
   ],
   "source": [
    "a"
   ]
  },
  {
   "cell_type": "code",
   "execution_count": null,
   "id": "bcad03b5-3ef3-4e6b-afd7-a475a1effe2b",
   "metadata": {},
   "outputs": [],
   "source": []
  },
  {
   "cell_type": "code",
   "execution_count": 58,
   "id": "1c56c01d-6577-4931-85ae-e80fdb47074d",
   "metadata": {},
   "outputs": [],
   "source": [
    "a.extend([4, 5])"
   ]
  },
  {
   "cell_type": "code",
   "execution_count": 59,
   "id": "396388fe-38f8-4c4e-b3cf-af30ee48b849",
   "metadata": {},
   "outputs": [
    {
     "data": {
      "text/plain": [
       "[1, 2, 3, 4, 5]"
      ]
     },
     "execution_count": 59,
     "metadata": {},
     "output_type": "execute_result"
    }
   ],
   "source": [
    "a"
   ]
  },
  {
   "cell_type": "code",
   "execution_count": 67,
   "id": "54a82ba4-de5f-4a9d-bec6-f092f1f9fd7f",
   "metadata": {},
   "outputs": [],
   "source": [
    "def append_element(some_list, element):\n",
    "    some_list.extend(element)"
   ]
  },
  {
   "cell_type": "code",
   "execution_count": 68,
   "id": "5e925d36-2a09-48c2-83f3-f3594da76872",
   "metadata": {},
   "outputs": [],
   "source": [
    "data = [1,2,3]\n",
    "append_element(data, [4,5,6])"
   ]
  },
  {
   "cell_type": "code",
   "execution_count": 69,
   "id": "3e7af303-a0db-44e8-bdcc-e153d028c71b",
   "metadata": {},
   "outputs": [
    {
     "data": {
      "text/plain": [
       "[1, 2, 3, 4, 5, 6]"
      ]
     },
     "execution_count": 69,
     "metadata": {},
     "output_type": "execute_result"
    }
   ],
   "source": [
    "data"
   ]
  },
  {
   "cell_type": "code",
   "execution_count": 70,
   "id": "a1d911b0-1d4d-473b-9a51-b37a579290aa",
   "metadata": {},
   "outputs": [
    {
     "data": {
      "text/plain": [
       "int"
      ]
     },
     "execution_count": 70,
     "metadata": {},
     "output_type": "execute_result"
    }
   ],
   "source": [
    "a =5\n",
    "type(a)"
   ]
  },
  {
   "cell_type": "code",
   "execution_count": 71,
   "id": "2a729a81-6598-4c73-b498-6eb269b41dd5",
   "metadata": {},
   "outputs": [
    {
     "data": {
      "text/plain": [
       "str"
      ]
     },
     "execution_count": 71,
     "metadata": {},
     "output_type": "execute_result"
    }
   ],
   "source": [
    "a = 'foo'\n",
    "type(a)"
   ]
  },
  {
   "cell_type": "code",
   "execution_count": 72,
   "id": "e7444133-2faf-4319-bae3-09ca5e704dde",
   "metadata": {},
   "outputs": [
    {
     "ename": "TypeError",
     "evalue": "can only concatenate str (not \"int\") to str",
     "output_type": "error",
     "traceback": [
      "\u001b[1;31m---------------------------------------------------------------------------\u001b[0m",
      "\u001b[1;31mTypeError\u001b[0m                                 Traceback (most recent call last)",
      "Cell \u001b[1;32mIn[72], line 1\u001b[0m\n\u001b[1;32m----> 1\u001b[0m \u001b[38;5;124;43m\"\u001b[39;49m\u001b[38;5;124;43m5\u001b[39;49m\u001b[38;5;124;43m\"\u001b[39;49m\u001b[43m \u001b[49m\u001b[38;5;241;43m+\u001b[39;49m\u001b[43m \u001b[49m\u001b[38;5;241;43m5\u001b[39;49m\n",
      "\u001b[1;31mTypeError\u001b[0m: can only concatenate str (not \"int\") to str"
     ]
    }
   ],
   "source": [
    "\"5\" + 5"
   ]
  },
  {
   "cell_type": "code",
   "execution_count": 77,
   "id": "0c48e72d-aac9-44e3-b20b-409d2724d51a",
   "metadata": {},
   "outputs": [
    {
     "data": {
      "text/plain": [
       "2.25"
      ]
     },
     "execution_count": 77,
     "metadata": {},
     "output_type": "execute_result"
    }
   ],
   "source": [
    "a = 4.5\n",
    "b = 2\n",
    "(a/b)"
   ]
  },
  {
   "cell_type": "code",
   "execution_count": 80,
   "id": "d27b9411-9b92-409c-8efe-5f5f941bea42",
   "metadata": {},
   "outputs": [
    {
     "data": {
      "text/plain": [
       "True"
      ]
     },
     "execution_count": 80,
     "metadata": {},
     "output_type": "execute_result"
    }
   ],
   "source": [
    "a = 5\n",
    "isinstance(a,int) #Instance is like that it just asks a queestions whether a is integer or not"
   ]
  },
  {
   "cell_type": "code",
   "execution_count": 81,
   "id": "e3e05d78-4373-4bc0-8f9c-89bebaddb6b2",
   "metadata": {},
   "outputs": [
    {
     "data": {
      "text/plain": [
       "True"
      ]
     },
     "execution_count": 81,
     "metadata": {},
     "output_type": "execute_result"
    }
   ],
   "source": [
    "a=5\n",
    "b=4.5\n",
    "isinstance(a, (int, float))"
   ]
  },
  {
   "cell_type": "code",
   "execution_count": 85,
   "id": "233054de-07d8-4f40-acc4-b9ddeb18badf",
   "metadata": {},
   "outputs": [
    {
     "data": {
      "text/plain": [
       "True"
      ]
     },
     "execution_count": 85,
     "metadata": {},
     "output_type": "execute_result"
    }
   ],
   "source": [
    "isinstance(b, (int,float))"
   ]
  },
  {
   "cell_type": "code",
   "execution_count": 87,
   "id": "db8553c2-aa33-46e4-be38-07ab3d713f10",
   "metadata": {},
   "outputs": [
    {
     "data": {
      "text/plain": [
       "'foo'"
      ]
     },
     "execution_count": 87,
     "metadata": {},
     "output_type": "execute_result"
    }
   ],
   "source": [
    "a = 'foo'\n",
    "a.strip()"
   ]
  },
  {
   "cell_type": "code",
   "execution_count": 88,
   "id": "593df573-4a3f-46ac-b051-36e7e6266d60",
   "metadata": {},
   "outputs": [
    {
     "data": {
      "text/plain": [
       "<function str.split(sep=None, maxsplit=-1)>"
      ]
     },
     "execution_count": 88,
     "metadata": {},
     "output_type": "execute_result"
    }
   ],
   "source": [
    "getattr(a, 'split')"
   ]
  },
  {
   "cell_type": "code",
   "execution_count": 97,
   "id": "9c5b7764-c057-411c-8622-e82c085422dc",
   "metadata": {},
   "outputs": [
    {
     "data": {
      "text/plain": [
       "True"
      ]
     },
     "execution_count": 97,
     "metadata": {},
     "output_type": "execute_result"
    }
   ],
   "source": [
    "from collections.abc import Iterable\n",
    "a = 'hello' \n",
    "isinstance(a, Iterable) #iterable (can we go through this variable one by one or not)\n",
    "#isinstance (is like a genius that raises question whether it is true or not)"
   ]
  },
  {
   "cell_type": "code",
   "execution_count": 98,
   "id": "ce668cbb-5819-4d71-a5dd-0511688fbcb1",
   "metadata": {},
   "outputs": [],
   "source": [
    "def isiterable(obj):\n",
    "    try:\n",
    "        iter(obj)\n",
    "        return True\n",
    "    except TypeError:\n",
    "        return False"
   ]
  },
  {
   "cell_type": "code",
   "execution_count": 106,
   "id": "e8c2745c-fc6e-4db3-867b-9edd7cdc8565",
   "metadata": {},
   "outputs": [
    {
     "data": {
      "text/plain": [
       "True"
      ]
     },
     "execution_count": 106,
     "metadata": {},
     "output_type": "execute_result"
    }
   ],
   "source": [
    "isiterable('4')"
   ]
  },
  {
   "cell_type": "code",
   "execution_count": 111,
   "id": "05c2966c-27e2-47ad-8b20-0ef82bc60085",
   "metadata": {},
   "outputs": [],
   "source": [
    "#some_module.py\n",
    "PI = 3.14159\n",
    "\n",
    "def f(x):\n",
    "    return x+2\n",
    "\n",
    "def g(a,b):\n",
    "    return a + b"
   ]
  },
  {
   "cell_type": "code",
   "execution_count": null,
   "id": "03000621-1ff9-4c9e-a831-800a9400f7eb",
   "metadata": {},
   "outputs": [],
   "source": [
    "import some_module #we can import module and functions from our other python profile\n",
    "result = some_module.f(5) #this is also helpful that we can create functions in our different modulule file\n",
    "some_module.pi"
   ]
  },
  {
   "cell_type": "code",
   "execution_count": 112,
   "id": "f912e13f-fca3-42cd-8357-07295001424c",
   "metadata": {},
   "outputs": [
    {
     "data": {
      "text/plain": [
       "-2"
      ]
     },
     "execution_count": 112,
     "metadata": {},
     "output_type": "execute_result"
    }
   ],
   "source": [
    "5-7"
   ]
  },
  {
   "cell_type": "code",
   "execution_count": 113,
   "id": "4f43c2ac-795e-40a9-8f6a-38d3f8177fd0",
   "metadata": {},
   "outputs": [
    {
     "data": {
      "text/plain": [
       "33.5"
      ]
     },
     "execution_count": 113,
     "metadata": {},
     "output_type": "execute_result"
    }
   ],
   "source": [
    "12+21.5"
   ]
  },
  {
   "cell_type": "code",
   "execution_count": 120,
   "id": "60916fa6-8a29-483a-921c-f4bf6d59b273",
   "metadata": {},
   "outputs": [
    {
     "data": {
      "text/plain": [
       "True"
      ]
     },
     "execution_count": 120,
     "metadata": {},
     "output_type": "execute_result"
    }
   ],
   "source": [
    "5<12"
   ]
  },
  {
   "cell_type": "code",
   "execution_count": 123,
   "id": "b377c3d8-1992-442f-9212-b6e1ebb4cf17",
   "metadata": {},
   "outputs": [
    {
     "data": {
      "text/plain": [
       "125"
      ]
     },
     "execution_count": 123,
     "metadata": {},
     "output_type": "execute_result"
    }
   ],
   "source": [
    "a = 5\n",
    "b = 3\n",
    "a**b"
   ]
  },
  {
   "cell_type": "code",
   "execution_count": 124,
   "id": "9a3b1b11-eb28-4038-8109-9d0e40e2dfa3",
   "metadata": {},
   "outputs": [],
   "source": [
    "a = [1,2,3]"
   ]
  },
  {
   "cell_type": "code",
   "execution_count": 125,
   "id": "8c9bd931-c4f9-4b29-89d7-66c57d63b701",
   "metadata": {},
   "outputs": [],
   "source": [
    "b = a"
   ]
  },
  {
   "cell_type": "code",
   "execution_count": null,
   "id": "55199893-6ebd-4af7-9b13-ac9f7228476b",
   "metadata": {},
   "outputs": [],
   "source": []
  },
  {
   "cell_type": "code",
   "execution_count": 127,
   "id": "eb7de6f7-255b-40d0-b41f-f7c29a379068",
   "metadata": {},
   "outputs": [
    {
     "data": {
      "text/plain": [
       "True"
      ]
     },
     "execution_count": 127,
     "metadata": {},
     "output_type": "execute_result"
    }
   ],
   "source": [
    "a is b"
   ]
  },
  {
   "cell_type": "code",
   "execution_count": 130,
   "id": "ec11b613-c952-465c-bdee-bcfe84a04b41",
   "metadata": {},
   "outputs": [
    {
     "data": {
      "text/plain": [
       "False"
      ]
     },
     "execution_count": 130,
     "metadata": {},
     "output_type": "execute_result"
    }
   ],
   "source": [
    "a is c"
   ]
  },
  {
   "cell_type": "code",
   "execution_count": 131,
   "id": "94b435c3-e9fc-4bb0-9307-eb5b91807f63",
   "metadata": {},
   "outputs": [
    {
     "data": {
      "text/plain": [
       "True"
      ]
     },
     "execution_count": 131,
     "metadata": {},
     "output_type": "execute_result"
    }
   ],
   "source": [
    "a is not c"
   ]
  },
  {
   "cell_type": "code",
   "execution_count": 133,
   "id": "f1a6a201-26cf-4916-9409-a24f5b190502",
   "metadata": {},
   "outputs": [
    {
     "data": {
      "text/plain": [
       "True"
      ]
     },
     "execution_count": 133,
     "metadata": {},
     "output_type": "execute_result"
    }
   ],
   "source": [
    "a == c"
   ]
  },
  {
   "cell_type": "code",
   "execution_count": 134,
   "id": "4d83b2a3-ca15-436f-812a-6e00676119dd",
   "metadata": {},
   "outputs": [
    {
     "data": {
      "text/plain": [
       "True"
      ]
     },
     "execution_count": 134,
     "metadata": {},
     "output_type": "execute_result"
    }
   ],
   "source": [
    "a = None\n",
    "a is None"
   ]
  },
  {
   "cell_type": "code",
   "execution_count": 136,
   "id": "c8816d47-95bf-4f4a-8ee1-3eff933c7e81",
   "metadata": {},
   "outputs": [
    {
     "data": {
      "text/plain": [
       "['foo', 2, 3]"
      ]
     },
     "execution_count": 136,
     "metadata": {},
     "output_type": "execute_result"
    }
   ],
   "source": [
    "a_list = ['foo', 2, [4,5]]\n",
    "a_list[2] = 3\n",
    "a_list"
   ]
  },
  {
   "cell_type": "code",
   "execution_count": 137,
   "id": "378d1703-b29b-4618-9ee7-50ca70be2fd6",
   "metadata": {},
   "outputs": [
    {
     "ename": "TypeError",
     "evalue": "'tuple' object does not support item assignment",
     "output_type": "error",
     "traceback": [
      "\u001b[1;31m---------------------------------------------------------------------------\u001b[0m",
      "\u001b[1;31mTypeError\u001b[0m                                 Traceback (most recent call last)",
      "Cell \u001b[1;32mIn[137], line 2\u001b[0m\n\u001b[0;32m      1\u001b[0m a_tuple \u001b[38;5;241m=\u001b[39m (\u001b[38;5;241m3\u001b[39m,\u001b[38;5;241m4\u001b[39m,(\u001b[38;5;241m5\u001b[39m,\u001b[38;5;241m6\u001b[39m))\n\u001b[1;32m----> 2\u001b[0m \u001b[43ma_tuple\u001b[49m\u001b[43m[\u001b[49m\u001b[38;5;241;43m0\u001b[39;49m\u001b[43m]\u001b[49m \u001b[38;5;241m=\u001b[39m \u001b[38;5;241m10\u001b[39m\n",
      "\u001b[1;31mTypeError\u001b[0m: 'tuple' object does not support item assignment"
     ]
    }
   ],
   "source": [
    "a_tuple = (3,4,(5,6)) #tuple is mutable so it cant be changed\n",
    "a_tuple[0] = 10"
   ]
  },
  {
   "cell_type": "code",
   "execution_count": 141,
   "id": "566377f2-40ed-44af-af9a-97b52c0c8cb6",
   "metadata": {},
   "outputs": [
    {
     "name": "stdout",
     "output_type": "stream",
     "text": [
      "2.7100555456333462e+53\n"
     ]
    }
   ],
   "source": [
    "ival = 3434855483\n",
    "a = ival **6 #it is just like saying (ival)^6\n",
    "\n",
    "total = a/6060\n",
    "print(total)"
   ]
  },
  {
   "cell_type": "code",
   "execution_count": 146,
   "id": "57d695ec-2159-4098-a36f-aa046b57f0c8",
   "metadata": {},
   "outputs": [
    {
     "data": {
      "text/plain": [
       "6.78e-05"
      ]
     },
     "execution_count": 146,
     "metadata": {},
     "output_type": "execute_result"
    }
   ],
   "source": [
    "fval = 6.78e-5 #e stands for exponent and -5 means move point 5 places to the left\n",
    "fval"
   ]
  },
  {
   "cell_type": "code",
   "execution_count": 147,
   "id": "c0d0368c-12f0-4d5a-943d-e1cd0f223e38",
   "metadata": {},
   "outputs": [
    {
     "data": {
      "text/plain": [
       "1.5"
      ]
     },
     "execution_count": 147,
     "metadata": {},
     "output_type": "execute_result"
    }
   ],
   "source": [
    "3/2"
   ]
  },
  {
   "cell_type": "code",
   "execution_count": 151,
   "id": "7f94c005-c6ae-4000-9aa5-d3d5448e45cd",
   "metadata": {},
   "outputs": [
    {
     "data": {
      "text/plain": [
       "1"
      ]
     },
     "execution_count": 151,
     "metadata": {},
     "output_type": "execute_result"
    }
   ],
   "source": [
    "3//2 #its means we round down the given answer"
   ]
  },
  {
   "cell_type": "code",
   "execution_count": 152,
   "id": "1d396b1d-ad00-4781-bebb-92e06bd48d66",
   "metadata": {},
   "outputs": [],
   "source": [
    "a = 'one way of writing string'\n",
    "b = 'another way'"
   ]
  },
  {
   "cell_type": "code",
   "execution_count": 153,
   "id": "56b48cd8-db8f-4b29-a421-c69d48cbae4b",
   "metadata": {},
   "outputs": [
    {
     "data": {
      "text/plain": [
       "'\\nThis is a longer string that spans \\nmuliple lines\\n'"
      ]
     },
     "execution_count": 153,
     "metadata": {},
     "output_type": "execute_result"
    }
   ],
   "source": [
    "#for multi line string \n",
    "c = '''\n",
    "This is a longer string that spans \n",
    "muliple lines\n",
    "'''"
   ]
  },
  {
   "cell_type": "code",
   "execution_count": 158,
   "id": "d7cb59e7-b21d-4891-9e43-61710f46b969",
   "metadata": {},
   "outputs": [
    {
     "data": {
      "text/plain": [
       "0"
      ]
     },
     "execution_count": 158,
     "metadata": {},
     "output_type": "execute_result"
    }
   ],
   "source": [
    "c.count(\"\\n\")"
   ]
  },
  {
   "cell_type": "code",
   "execution_count": 159,
   "id": "b8d96530-bae5-42f8-ae44-04c8701f9261",
   "metadata": {},
   "outputs": [
    {
     "ename": "TypeError",
     "evalue": "'str' object does not support item assignment",
     "output_type": "error",
     "traceback": [
      "\u001b[1;31m---------------------------------------------------------------------------\u001b[0m",
      "\u001b[1;31mTypeError\u001b[0m                                 Traceback (most recent call last)",
      "Cell \u001b[1;32mIn[159], line 2\u001b[0m\n\u001b[0;32m      1\u001b[0m a \u001b[38;5;241m=\u001b[39m \u001b[38;5;124m'\u001b[39m\u001b[38;5;124mthis is a string\u001b[39m\u001b[38;5;124m'\u001b[39m\n\u001b[1;32m----> 2\u001b[0m \u001b[43ma\u001b[49m\u001b[43m[\u001b[49m\u001b[38;5;241;43m10\u001b[39;49m\u001b[43m]\u001b[49m \u001b[38;5;241m=\u001b[39m \u001b[38;5;124m'\u001b[39m\u001b[38;5;124mf\u001b[39m\u001b[38;5;124m'\u001b[39m\n",
      "\u001b[1;31mTypeError\u001b[0m: 'str' object does not support item assignment"
     ]
    }
   ],
   "source": [
    "a = 'this is a string' #python strings are immutable \n",
    "a[10] = 'f'"
   ]
  },
  {
   "cell_type": "code",
   "execution_count": 164,
   "id": "0375b821-f9ac-4929-810c-68e6d6c6f54f",
   "metadata": {},
   "outputs": [],
   "source": [
    "b = a.replace('string', 'longer string') #strings are immutable, so we create new string by using replace methond"
   ]
  },
  {
   "cell_type": "code",
   "execution_count": 165,
   "id": "9ecb33fb-cc65-47ec-bcbe-c15428d0c31f",
   "metadata": {},
   "outputs": [
    {
     "data": {
      "text/plain": [
       "'this is a longer string'"
      ]
     },
     "execution_count": 165,
     "metadata": {},
     "output_type": "execute_result"
    }
   ],
   "source": [
    "b"
   ]
  },
  {
   "cell_type": "code",
   "execution_count": 167,
   "id": "7f30f41e-fd56-4106-b8a1-4a9d38b4bd5d",
   "metadata": {},
   "outputs": [
    {
     "data": {
      "text/plain": [
       "'5.6'"
      ]
     },
     "execution_count": 167,
     "metadata": {},
     "output_type": "execute_result"
    }
   ],
   "source": [
    "a = 5.6\n",
    "s = str(a) #by using str we can convert an integer into string\n",
    "s"
   ]
  },
  {
   "cell_type": "code",
   "execution_count": null,
   "id": "3c8bfb82-e2ec-41fb-9a72-d7ce4cc251e9",
   "metadata": {},
   "outputs": [],
   "source": []
  },
  {
   "cell_type": "code",
   "execution_count": null,
   "id": "f22ec475-5bbf-4708-a7f9-5f59dbad906d",
   "metadata": {},
   "outputs": [],
   "source": []
  },
  {
   "cell_type": "code",
   "execution_count": null,
   "id": "e2f154f0-06c9-4586-84ae-04d4342fa714",
   "metadata": {},
   "outputs": [],
   "source": []
  },
  {
   "cell_type": "code",
   "execution_count": 180,
   "id": "97911046-4ebc-475d-a1dd-c976d4923eca",
   "metadata": {},
   "outputs": [
    {
     "name": "stdout",
     "output_type": "stream",
     "text": [
      "12\\32\n"
     ]
    }
   ],
   "source": [
    "s = '12\\\\32'\n",
    "print(s)"
   ]
  },
  {
   "cell_type": "code",
   "execution_count": 189,
   "id": "aea2bce4-297f-4f29-b9cd-ee471fb3832a",
   "metadata": {},
   "outputs": [
    {
     "name": "stderr",
     "output_type": "stream",
     "text": [
      "<>:1: SyntaxWarning: invalid escape sequence '\\h'\n",
      "<>:1: SyntaxWarning: invalid escape sequence '\\h'\n",
      "C:\\Users\\PAKISTAN Traders\\AppData\\Local\\Temp\\ipykernel_12788\\1067784004.py:1: SyntaxWarning: invalid escape sequence '\\h'\n",
      "  s = 'this\\has\\no\\special\\charactors'\n"
     ]
    },
    {
     "data": {
      "text/plain": [
       "'this\\\\has\\no\\\\special\\\\charactors'"
      ]
     },
     "execution_count": 189,
     "metadata": {},
     "output_type": "execute_result"
    }
   ],
   "source": [
    "s = 'this\\has\\no\\special\\charactors'\n",
    "s"
   ]
  },
  {
   "cell_type": "code",
   "execution_count": 191,
   "id": "902d1cac-2b67-411c-bedb-cedab40c808a",
   "metadata": {},
   "outputs": [
    {
     "data": {
      "text/plain": [
       "'this is a first string and this is a second string'"
      ]
     },
     "execution_count": 191,
     "metadata": {},
     "output_type": "execute_result"
    }
   ],
   "source": [
    "a = 'this is a first string'\n",
    "b = ' and this is a second string'\n",
    "\n",
    "a+b #it concatinates two strings and produces a new one"
   ]
  },
  {
   "cell_type": "code",
   "execution_count": 204,
   "id": "568d8cb9-280d-4418-a687-5c35a816e158",
   "metadata": {},
   "outputs": [
    {
     "data": {
      "text/plain": [
       "'88.44 zulqarnain are worth us$1'"
      ]
     },
     "execution_count": 204,
     "metadata": {},
     "output_type": "execute_result"
    }
   ],
   "source": [
    "template = '{0:.2f} {1:s} are worth us${2:d}' #string formating\n",
    "template.format(88.44446, \"zulqarnain\", 1)"
   ]
  },
  {
   "cell_type": "code",
   "execution_count": 208,
   "id": "b0d6eeab-e3a9-4297-9374-81e89b677ebd",
   "metadata": {},
   "outputs": [
    {
     "data": {
      "text/plain": [
       "'Zulqarnain ki shadi 2 din say ho rahi hai'"
      ]
     },
     "execution_count": 208,
     "metadata": {},
     "output_type": "execute_result"
    }
   ],
   "source": [
    "shadi = '{0:s} {1:d} din say ho rahi hai'\n",
    "shadi.format('Zulqarnain ki shadi', 2)"
   ]
  },
  {
   "cell_type": "code",
   "execution_count": 219,
   "id": "fd357f42-628b-4a78-a856-371c0862b224",
   "metadata": {},
   "outputs": [],
   "source": [
    "amount = 18\n",
    "rate = 2\n",
    "currency = 'pesos'\n",
    "\n",
    "result = f'{amount} {currency} is worth us${amount/rate:.2f}'"
   ]
  },
  {
   "cell_type": "code",
   "execution_count": 220,
   "id": "4750b0aa-1da5-4eb2-a1a6-ed37709f2984",
   "metadata": {},
   "outputs": [
    {
     "data": {
      "text/plain": [
       "'18 pesos is worth us$9.00'"
      ]
     },
     "execution_count": 220,
     "metadata": {},
     "output_type": "execute_result"
    }
   ],
   "source": [
    "result"
   ]
  },
  {
   "cell_type": "code",
   "execution_count": 226,
   "id": "2307a2d4-1501-4a2c-8739-af88d41a237f",
   "metadata": {},
   "outputs": [
    {
     "name": "stdout",
     "output_type": "stream",
     "text": [
      "b'Zulqarnain'\n"
     ]
    }
   ],
   "source": [
    "text = \"Zulqarnain\"\n",
    "encoded = text.encode(\"utf-8\")\n",
    "print(encoded)\n"
   ]
  },
  {
   "cell_type": "code",
   "execution_count": 228,
   "id": "8221e901-7c5c-4d5e-ba88-b7ed2425c6bd",
   "metadata": {},
   "outputs": [
    {
     "data": {
      "image/png": "[encoded data removed]",
      "text/plain": [
       "<Figure size 1800x500 with 3 Axes>"
      ]
     },
     "metadata": {},
     "output_type": "display_data"
    }
   ],
   "source": [
    "import numpy as np\n",
    "import matplotlib.pyplot as plt\n",
    "import seaborn as sns\n",
    "from scipy.stats import skew\n",
    "\n",
    "# Generate three distributions\n",
    "np.random.seed(0)\n",
    "\n",
    "# 1. Normal distribution (no skew)\n",
    "normal_data = np.random.normal(loc=0, scale=1, size=1000)\n",
    "\n",
    "# 2. Right-skewed distribution\n",
    "right_skewed = np.random.exponential(scale=1, size=1000)\n",
    "\n",
    "# 3. Left-skewed distribution (flip of exponential)\n",
    "left_skewed = -np.random.exponential(scale=1, size=1000)\n",
    "\n",
    "# Plotting\n",
    "fig, axes = plt.subplots(1, 3, figsize=(18, 5))\n",
    "\n",
    "# Normal\n",
    "sns.histplot(normal_data, kde=True, ax=axes[0], color='skyblue')\n",
    "axes[0].set_title(f'Normal (Skew = {skew(normal_data):.2f})')\n",
    "\n",
    "# Right Skew\n",
    "sns.histplot(right_skewed, kde=True, ax=axes[1], color='salmon')\n",
    "axes[1].set_title(f'Right Skew (Skew = {skew(right_skewed):.2f})')\n",
    "\n",
    "# Left Skew\n",
    "sns.histplot(left_skewed, kde=True, ax=axes[2], color='lightgreen')\n",
    "axes[2].set_title(f'Left Skew (Skew = {skew(left_skewed):.2f})')\n",
    "\n",
    "plt.tight_layout()\n",
    "plt.show()\n"
   ]
  },
  {
   "cell_type": "code",
   "execution_count": 229,
   "id": "422b099c-448e-47b0-beb9-dc2beaa95121",
   "metadata": {},
   "outputs": [
    {
     "data": {
      "image/png": "[encoded data removed]",
      "text/plain": [
       "<Figure size 640x480 with 1 Axes>"
      ]
     },
     "metadata": {},
     "output_type": "display_data"
    }
   ],
   "source": [
    "import seaborn as sns\n",
    "import matplotlib.pyplot as plt\n",
    "\n",
    "data = [60, 65, 70, 72, 73, 75, 80, 85, 90]\n",
    "sns.kdeplot(data, fill=True)\n",
    "plt.title(\"Density Estimate of Test Scores\")\n",
    "plt.show()\n"
   ]
  },
  {
   "cell_type": "code",
   "execution_count": 230,
   "id": "85993ddf-9a53-4260-bdfd-d9cde95d2f3c",
   "metadata": {},
   "outputs": [
    {
     "name": "stdout",
     "output_type": "stream",
     "text": [
      "Correlation Coefficient: 0.9970544855015816\n"
     ]
    }
   ],
   "source": [
    "import numpy as np\n",
    "\n",
    "hours = [1, 2, 4, 5]\n",
    "scores = [55, 60, 75, 80]\n",
    "\n",
    "correlation = np.corrcoef(hours, scores)[0, 1]\n",
    "print(\"Correlation Coefficient:\", correlation)\n"
   ]
  },
  {
   "cell_type": "code",
   "execution_count": 231,
   "id": "65a1fd1f-de48-447e-933a-c181a751d868",
   "metadata": {},
   "outputs": [
    {
     "data": {
      "image/png": "[encoded data removed]",
      "text/plain": [
       "<Figure size 640x480 with 1 Axes>"
      ]
     },
     "metadata": {},
     "output_type": "display_data"
    }
   ],
   "source": [
    "import matplotlib.pyplot as plt\n",
    "\n",
    "hours = [1, 2, 3, 4, 5]\n",
    "scores = [55, 60, 70, 75, 90]\n",
    "\n",
    "plt.scatter(hours, scores)\n",
    "plt.title(\"Scatter Plot: Hours Studied vs Exam Score\")\n",
    "plt.xlabel(\"Hours Studied\")\n",
    "plt.ylabel(\"Exam Score\")\n",
    "plt.grid(True)\n",
    "plt.show()\n"
   ]
  },
  {
   "cell_type": "code",
   "execution_count": 233,
   "id": "ad9ef8b9-f328-4c97-9eef-d417160514ed",
   "metadata": {},
   "outputs": [
    {
     "name": "stdout",
     "output_type": "stream",
     "text": [
      "Pearson’s r = -0.6989931265897328\n"
     ]
    }
   ],
   "source": [
    "import numpy as np\n",
    "\n",
    "x = [1, 2, 3, 4, 5]\n",
    "y = [2, 4, -6, 8, -200]\n",
    "\n",
    "correlation = np.corrcoef(x, y)[0, 1]\n",
    "print(\"Pearson’s r =\", correlation)\n"
   ]
  },
  {
   "cell_type": "code",
   "execution_count": 234,
   "id": "bfe5cc33-c664-45eb-a1b9-193dd5bbcec9",
   "metadata": {},
   "outputs": [
    {
     "name": "stdout",
     "output_type": "stream",
     "text": [
      "Spearman’s rho: 0.7999999999999999\n",
      "Kendall’s tau: 0.6\n"
     ]
    }
   ],
   "source": [
    "from scipy.stats import spearmanr, kendalltau\n",
    "\n",
    "x = [1, 2, 3, 4, 5]\n",
    "y = [1, 3, 2, 5, 4]\n",
    "\n",
    "# Spearman's rho\n",
    "spearman_corr, _ = spearmanr(x, y)\n",
    "print(\"Spearman’s rho:\", spearman_corr)\n",
    "\n",
    "# Kendall's tau\n",
    "kendall_corr, _ = kendalltau(x, y)\n",
    "print(\"Kendall’s tau:\", kendall_corr)\n"
   ]
  },
  {
   "cell_type": "code",
   "execution_count": 249,
   "id": "4ac90c1c-9e4b-4cf7-854b-d2f4a315d0aa",
   "metadata": {},
   "outputs": [
    {
     "data": {
      "text/plain": [
       "b'zulqarnain'"
      ]
     },
     "execution_count": 249,
     "metadata": {},
     "output_type": "execute_result"
    }
   ],
   "source": [
    "name = 'zulqarnain'\n",
    "encode = name.encode('utf-8')\n",
    "encode"
   ]
  },
  {
   "cell_type": "code",
   "execution_count": 250,
   "id": "a971e9d9-091a-4176-a458-64ee63d65ab8",
   "metadata": {},
   "outputs": [
    {
     "data": {
      "text/plain": [
       "bytes"
      ]
     },
     "execution_count": 250,
     "metadata": {},
     "output_type": "execute_result"
    }
   ],
   "source": [
    "type(encode)"
   ]
  },
  {
   "cell_type": "code",
   "execution_count": 251,
   "id": "dbcf941a-779d-4916-8cef-0c995214cead",
   "metadata": {},
   "outputs": [],
   "source": [
    "decode =encode.decode('utf-8')"
   ]
  },
  {
   "cell_type": "code",
   "execution_count": 252,
   "id": "0fa3facc-8414-4370-8def-a87606056209",
   "metadata": {},
   "outputs": [
    {
     "data": {
      "text/plain": [
       "str"
      ]
     },
     "execution_count": 252,
     "metadata": {},
     "output_type": "execute_result"
    }
   ],
   "source": [
    "type(decode)"
   ]
  },
  {
   "cell_type": "code",
   "execution_count": 254,
   "id": "de7f5e45-bc88-4df4-acac-26005a0db6d2",
   "metadata": {},
   "outputs": [
    {
     "data": {
      "text/plain": [
       "True"
      ]
     },
     "execution_count": 254,
     "metadata": {},
     "output_type": "execute_result"
    }
   ],
   "source": [
    "True and True"
   ]
  },
  {
   "cell_type": "code",
   "execution_count": 255,
   "id": "34eb4f22-caca-4b50-8888-0109720fb28d",
   "metadata": {},
   "outputs": [
    {
     "data": {
      "text/plain": [
       "True"
      ]
     },
     "execution_count": 255,
     "metadata": {},
     "output_type": "execute_result"
    }
   ],
   "source": [
    "False or True"
   ]
  },
  {
   "cell_type": "code",
   "execution_count": 259,
   "id": "4465764f-d01e-4ade-b21d-3aecad868d3f",
   "metadata": {},
   "outputs": [
    {
     "data": {
      "text/plain": [
       "0"
      ]
     },
     "execution_count": 259,
     "metadata": {},
     "output_type": "execute_result"
    }
   ],
   "source": [
    "#false beomes 0 and 1 becomes true\n",
    "false = int(False)\n",
    "true = int(True)\n",
    "false"
   ]
  },
  {
   "cell_type": "code",
   "execution_count": 260,
   "id": "ebc7e8fd-5762-4117-a58f-f41ee76c97ee",
   "metadata": {},
   "outputs": [
    {
     "data": {
      "text/plain": [
       "1"
      ]
     },
     "execution_count": 260,
     "metadata": {},
     "output_type": "execute_result"
    }
   ],
   "source": [
    "true"
   ]
  },
  {
   "cell_type": "code",
   "execution_count": 261,
   "id": "8e2431ed-7e03-4769-b377-80a71c85c849",
   "metadata": {},
   "outputs": [],
   "source": [
    "a = True\n",
    "b = False\n",
    "not a"
   ]
  },
  {
   "cell_type": "code",
   "execution_count": 268,
   "id": "30e15b33-3665-444d-9a66-7754c463bbc2",
   "metadata": {},
   "outputs": [
    {
     "data": {
      "text/plain": [
       "False"
      ]
     },
     "execution_count": 268,
     "metadata": {},
     "output_type": "execute_result"
    }
   ],
   "source": [
    "not a #it will just give the opposite of particular bolean value"
   ]
  },
  {
   "cell_type": "code",
   "execution_count": 272,
   "id": "f5fa0998-5328-4f52-9a68-0fae22498134",
   "metadata": {},
   "outputs": [
    {
     "data": {
      "text/plain": [
       "3.14159"
      ]
     },
     "execution_count": 272,
     "metadata": {},
     "output_type": "execute_result"
    }
   ],
   "source": [
    "s = '3.14159'\n",
    "fval = float(s) #converting the string into float using float function\n",
    "type(fval)\n",
    "fval"
   ]
  },
  {
   "cell_type": "code",
   "execution_count": 274,
   "id": "1ea3a6bf-03a5-465d-8e23-6a3ea9b49c9a",
   "metadata": {},
   "outputs": [
    {
     "data": {
      "text/plain": [
       "3"
      ]
     },
     "execution_count": 274,
     "metadata": {},
     "output_type": "execute_result"
    }
   ],
   "source": [
    "int(fval) #converting float value into the integers"
   ]
  },
  {
   "cell_type": "code",
   "execution_count": 283,
   "id": "bd355e01-d0ef-4bdc-ade9-6e8d62c1936e",
   "metadata": {},
   "outputs": [
    {
     "data": {
      "text/plain": [
       "True"
      ]
     },
     "execution_count": 283,
     "metadata": {},
     "output_type": "execute_result"
    }
   ],
   "source": [
    "bool('34.45')"
   ]
  },
  {
   "cell_type": "code",
   "execution_count": 284,
   "id": "838a68d8-b349-49d1-aada-b030b908cbf1",
   "metadata": {},
   "outputs": [
    {
     "data": {
      "text/plain": [
       "False"
      ]
     },
     "execution_count": 284,
     "metadata": {},
     "output_type": "execute_result"
    }
   ],
   "source": [
    "bool(0)"
   ]
  },
  {
   "cell_type": "code",
   "execution_count": 285,
   "id": "3d8cc691-c28e-4103-aacb-71fc9387bf6d",
   "metadata": {},
   "outputs": [
    {
     "data": {
      "text/plain": [
       "True"
      ]
     },
     "execution_count": 285,
     "metadata": {},
     "output_type": "execute_result"
    }
   ],
   "source": [
    "a = None\n",
    "a is None"
   ]
  },
  {
   "cell_type": "code",
   "execution_count": 286,
   "id": "f9640a29-09c3-4d58-b97e-e9ea2df1d087",
   "metadata": {},
   "outputs": [
    {
     "data": {
      "text/plain": [
       "True"
      ]
     },
     "execution_count": 286,
     "metadata": {},
     "output_type": "execute_result"
    }
   ],
   "source": [
    "b = 5\n",
    "b is not None"
   ]
  },
  {
   "cell_type": "code",
   "execution_count": 290,
   "id": "34c4c9d4-1107-4e9c-a7c8-0dffa448b169",
   "metadata": {},
   "outputs": [],
   "source": [
    "def add_and_maybe_multiply(a, b, c=None):\n",
    "    result = a + b\n",
    "\n",
    "    if c is not None:\n",
    "       result = result*c\n",
    "\n",
    "    return result"
   ]
  },
  {
   "cell_type": "code",
   "execution_count": 294,
   "id": "347733e4-f9b0-4914-91de-12a450891e43",
   "metadata": {},
   "outputs": [
    {
     "data": {
      "text/plain": [
       "16"
      ]
     },
     "execution_count": 294,
     "metadata": {},
     "output_type": "execute_result"
    }
   ],
   "source": [
    "add_and_maybe_multiply(5,3,2)"
   ]
  },
  {
   "cell_type": "code",
   "execution_count": 328,
   "id": "f2f23898-18de-4d41-894c-b4ba10837cdb",
   "metadata": {},
   "outputs": [],
   "source": [
    "from datetime import datetime, date, time\n",
    "dt = datetime(2011,10,29,9,28,45)\n",
    "date = dt.date()\n",
    "time = dt.time()"
   ]
  },
  {
   "cell_type": "code",
   "execution_count": 320,
   "id": "1bde4da6-5698-4437-9646-9996242cc84c",
   "metadata": {},
   "outputs": [
    {
     "data": {
      "text/plain": [
       "'2011-29 09:28'"
      ]
     },
     "execution_count": 320,
     "metadata": {},
     "output_type": "execute_result"
    }
   ],
   "source": [
    "dt.strftime('%Y-%d %H:%M')"
   ]
  },
  {
   "cell_type": "code",
   "execution_count": 321,
   "id": "5205327a-15c8-4ed2-9c27-6cde0272ad0f",
   "metadata": {},
   "outputs": [
    {
     "data": {
      "text/plain": [
       "datetime.datetime(2009, 10, 31, 0, 0)"
      ]
     },
     "execution_count": 321,
     "metadata": {},
     "output_type": "execute_result"
    }
   ],
   "source": [
    "datetime.strptime('20091031', '%Y%m%d')"
   ]
  },
  {
   "cell_type": "code",
   "execution_count": 326,
   "id": "3ad0dc88-6d20-4185-a99c-716ff3369af3",
   "metadata": {},
   "outputs": [
    {
     "data": {
      "text/plain": [
       "datetime.datetime(2011, 10, 29, 9, 0)"
      ]
     },
     "execution_count": 326,
     "metadata": {},
     "output_type": "execute_result"
    }
   ],
   "source": [
    "dt_hour = dt.replace(minute=0,second=0)\n",
    "dt_hour"
   ]
  },
  {
   "cell_type": "code",
   "execution_count": 329,
   "id": "66c14eab-bc64-45d8-8869-77ab61a57044",
   "metadata": {},
   "outputs": [
    {
     "data": {
      "text/plain": [
       "datetime.datetime(2011, 10, 29, 9, 28, 45)"
      ]
     },
     "execution_count": 329,
     "metadata": {},
     "output_type": "execute_result"
    }
   ],
   "source": [
    "dt"
   ]
  },
  {
   "cell_type": "code",
   "execution_count": 330,
   "id": "6e46836a-60ca-4a2d-9330-42f7931acc79",
   "metadata": {},
   "outputs": [
    {
     "data": {
      "text/plain": [
       "datetime.timedelta(days=17, seconds=46875)"
      ]
     },
     "execution_count": 330,
     "metadata": {},
     "output_type": "execute_result"
    }
   ],
   "source": [
    "dt2 = datetime(2011,11,15,22,30)\n",
    "delta = dt2 - dt\n",
    "delta"
   ]
  },
  {
   "cell_type": "code",
   "execution_count": 331,
   "id": "7c13e7b1-4ab0-40ce-bb5c-045bc09e52f3",
   "metadata": {},
   "outputs": [
    {
     "data": {
      "text/plain": [
       "datetime.timedelta"
      ]
     },
     "execution_count": 331,
     "metadata": {},
     "output_type": "execute_result"
    }
   ],
   "source": [
    "type(delta)"
   ]
  },
  {
   "cell_type": "code",
   "execution_count": 332,
   "id": "23262322-812b-4ce5-b6d1-aaf2d34cbdbc",
   "metadata": {},
   "outputs": [
    {
     "data": {
      "text/plain": [
       "datetime.datetime(2011, 11, 15, 22, 30)"
      ]
     },
     "execution_count": 332,
     "metadata": {},
     "output_type": "execute_result"
    }
   ],
   "source": [
    "dt + delta"
   ]
  },
  {
   "cell_type": "code",
   "execution_count": 338,
   "id": "d23f1f5c-6b9b-47e8-8fe7-e92b6fa70d32",
   "metadata": {},
   "outputs": [
    {
     "name": "stdout",
     "output_type": "stream",
     "text": [
      "Positive but smaller than 5\n"
     ]
    }
   ],
   "source": [
    "x = 4\n",
    "if x<0:\n",
    "    print('Its negative')\n",
    "elif x==0:\n",
    "    print('Equal to zero')\n",
    "elif 0<x <5:\n",
    "    print('Positive but smaller than 5')\n",
    "else:\n",
    "    print('Positive and larger than or equal to 5')"
   ]
  },
  {
   "cell_type": "code",
   "execution_count": 345,
   "id": "de8fd7fb-a822-4e4b-92d9-43d6da252f26",
   "metadata": {},
   "outputs": [
    {
     "name": "stdout",
     "output_type": "stream",
     "text": [
      "Made it\n"
     ]
    }
   ],
   "source": [
    "a=5\n",
    "b=7\n",
    "c=5\n",
    "d=4\n",
    "\n",
    "if a<b and c>d:\n",
    "    print('Made it')"
   ]
  },
  {
   "cell_type": "code",
   "execution_count": 349,
   "id": "8586617f-8835-43e5-9447-72a3b5eaa8cc",
   "metadata": {},
   "outputs": [
    {
     "data": {
      "text/plain": [
       "True"
      ]
     },
     "execution_count": 349,
     "metadata": {},
     "output_type": "execute_result"
    }
   ],
   "source": [
    "for value in collection:\n",
    "    #do something with value"
   ]
  },
  {
   "cell_type": "code",
   "execution_count": 353,
   "id": "2536822d-d60c-484d-a31b-4fe1816932ed",
   "metadata": {},
   "outputs": [],
   "source": [
    "sequence = [1,2,None,4,None,5]\n",
    "total = 0\n",
    "\n",
    "for value in sequence:\n",
    "    if value is None:\n",
    "        continue\n",
    "    total += value"
   ]
  },
  {
   "cell_type": "code",
   "execution_count": 351,
   "id": "d4275550-9fa0-4973-bfd2-8fdedf29b9cd",
   "metadata": {},
   "outputs": [
    {
     "data": {
      "text/plain": [
       "12"
      ]
     },
     "execution_count": 351,
     "metadata": {},
     "output_type": "execute_result"
    }
   ],
   "source": [
    "total"
   ]
  },
  {
   "cell_type": "code",
   "execution_count": 358,
   "id": "aa7a1076-8c3f-4257-9063-f89ca934682d",
   "metadata": {},
   "outputs": [],
   "source": [
    "sequence = [1,2,0,4,6,5,2,1]\n",
    "total_unit_5 = 0\n",
    "for value in sequence:\n",
    "    if value ==5:\n",
    "        break\n",
    "    total_unit_5 += value"
   ]
  },
  {
   "cell_type": "code",
   "execution_count": 359,
   "id": "81c097ae-71b6-4957-8247-afce2091d190",
   "metadata": {},
   "outputs": [
    {
     "data": {
      "text/plain": [
       "13"
      ]
     },
     "execution_count": 359,
     "metadata": {},
     "output_type": "execute_result"
    }
   ],
   "source": [
    "total_unit_5"
   ]
  },
  {
   "cell_type": "code",
   "execution_count": 381,
   "id": "e5af0ab5-cf49-4fa4-91ba-67c5e8bc4107",
   "metadata": {},
   "outputs": [
    {
     "name": "stdout",
     "output_type": "stream",
     "text": [
      "(0, 1)\n",
      "(1, 2)\n",
      "(2, 3)\n",
      "(3, 3)\n"
     ]
    }
   ],
   "source": [
    "for i in range(4):\n",
    "    for j in range(4):\n",
    "        if j>i:\n",
    "            break\n",
    "\n",
    "    print((i,j))\n"
   ]
  },
  {
   "cell_type": "code",
   "execution_count": 396,
   "id": "efee0848-a02d-4b60-8ee3-b424f1bdb9cc",
   "metadata": {},
   "outputs": [],
   "source": [
    "x = 256\n",
    "total = 0\n",
    "\n",
    "while x>0:\n",
    "    if total >500:\n",
    "        break\n",
    "    total += x"
   ]
  },
  {
   "cell_type": "code",
   "execution_count": 397,
   "id": "6cc50da5-24b9-4b2f-a160-7c7d51bd7b13",
   "metadata": {},
   "outputs": [
    {
     "data": {
      "text/plain": [
       "512"
      ]
     },
     "execution_count": 397,
     "metadata": {},
     "output_type": "execute_result"
    }
   ],
   "source": [
    "total"
   ]
  },
  {
   "cell_type": "code",
   "execution_count": 398,
   "id": "4612d461-56ce-449e-bba9-0e99ae2169ae",
   "metadata": {},
   "outputs": [],
   "source": [
    "x = x//2 #divide and throw away any decimal part "
   ]
  },
  {
   "cell_type": "code",
   "execution_count": 399,
   "id": "48b4f4b1-eee4-4358-a3c5-f0ccab4b06c9",
   "metadata": {},
   "outputs": [
    {
     "data": {
      "text/plain": [
       "128"
      ]
     },
     "execution_count": 399,
     "metadata": {},
     "output_type": "execute_result"
    }
   ],
   "source": [
    "x"
   ]
  },
  {
   "cell_type": "code",
   "execution_count": 402,
   "id": "51f94c34-2d7c-4ce0-9c6e-715ec4b05c05",
   "metadata": {},
   "outputs": [
    {
     "name": "stdout",
     "output_type": "stream",
     "text": [
      "Positive!\n"
     ]
    }
   ],
   "source": [
    "if x< 0:\n",
    "    print('Negative!')\n",
    "elif x==0:\n",
    "    pass\n",
    "else:\n",
    "    print('Positive!')"
   ]
  },
  {
   "cell_type": "code",
   "execution_count": 403,
   "id": "228c4023-914c-41ca-8c96-5fec852a3b62",
   "metadata": {},
   "outputs": [
    {
     "data": {
      "text/plain": [
       "range(0, 10)"
      ]
     },
     "execution_count": 403,
     "metadata": {},
     "output_type": "execute_result"
    }
   ],
   "source": [
    "range(10)"
   ]
  },
  {
   "cell_type": "code",
   "execution_count": 2,
   "id": "e765ee7b-2e20-4766-9052-76de423acbde",
   "metadata": {},
   "outputs": [
    {
     "data": {
      "text/plain": [
       "[0, 2, 4, 6, 8, 10, 12, 14, 16, 18]"
      ]
     },
     "execution_count": 2,
     "metadata": {},
     "output_type": "execute_result"
    }
   ],
   "source": [
    "list(range(0,20,2))"
   ]
  },
  {
   "cell_type": "code",
   "execution_count": 5,
   "id": "26be2083-f4ee-437b-98f3-15e59115412d",
   "metadata": {},
   "outputs": [
    {
     "data": {
      "text/plain": [
       "[5, 4, 3, 2, 1]"
      ]
     },
     "execution_count": 5,
     "metadata": {},
     "output_type": "execute_result"
    }
   ],
   "source": [
    "list(range(5,0,-1))"
   ]
  },
  {
   "cell_type": "code",
   "execution_count": 6,
   "id": "edd73b38-60cd-4579-b3ce-eabb7525d4a0",
   "metadata": {},
   "outputs": [
    {
     "name": "stdout",
     "output_type": "stream",
     "text": [
      "element 0: 1\n",
      "element 1: 2\n",
      "element 2: 3\n",
      "element 3: 4\n"
     ]
    }
   ],
   "source": [
    "seq = [1,2,3,4]\n",
    "for i in range(len(seq)):\n",
    "    print(f\"element {i}: {seq[i]}\")"
   ]
  },
  {
   "cell_type": "code",
   "execution_count": 7,
   "id": "0dda3cfd-2523-43aa-89d0-7151c1666b1a",
   "metadata": {},
   "outputs": [
    {
     "data": {
      "text/plain": [
       "2333316668"
      ]
     },
     "execution_count": 7,
     "metadata": {},
     "output_type": "execute_result"
    }
   ],
   "source": [
    "total = 0\n",
    "for i in range(100000):\n",
    "    if i%3 == 0 or i %5==0:\n",
    "        total += i\n",
    "\n",
    "total"
   ]
  },
  {
   "cell_type": "code",
   "execution_count": 8,
   "id": "d28a8895-5ff6-44df-902c-5503bdff42a4",
   "metadata": {},
   "outputs": [
    {
     "data": {
      "text/plain": [
       "(4, 5, 6)"
      ]
     },
     "execution_count": 8,
     "metadata": {},
     "output_type": "execute_result"
    }
   ],
   "source": [
    "tup = (4,5,6)\n",
    "tup"
   ]
  },
  {
   "cell_type": "code",
   "execution_count": 9,
   "id": "a75fc0b4-86e6-4f24-96e9-8377f17e01c0",
   "metadata": {},
   "outputs": [
    {
     "data": {
      "text/plain": [
       "(4, 5, 6)"
      ]
     },
     "execution_count": 9,
     "metadata": {},
     "output_type": "execute_result"
    }
   ],
   "source": [
    "tup = 4,5,6\n",
    "tup"
   ]
  },
  {
   "cell_type": "code",
   "execution_count": 10,
   "id": "92b598ca-63d9-4fb2-b28f-e38dc6f12563",
   "metadata": {},
   "outputs": [
    {
     "data": {
      "text/plain": [
       "(4, 0, 2)"
      ]
     },
     "execution_count": 10,
     "metadata": {},
     "output_type": "execute_result"
    }
   ],
   "source": [
    "tuple([4,0,2]) #converted list into a tuple"
   ]
  },
  {
   "cell_type": "code",
   "execution_count": 11,
   "id": "b2c81e83-039f-4b2b-9855-bddd7f6a1fa3",
   "metadata": {},
   "outputs": [
    {
     "data": {
      "text/plain": [
       "('S', 't', 'r', 'i', 'n', 'g')"
      ]
     },
     "execution_count": 11,
     "metadata": {},
     "output_type": "execute_result"
    }
   ],
   "source": [
    "tup = tuple('String') #converting string into tuple\n",
    "tup"
   ]
  },
  {
   "cell_type": "code",
   "execution_count": 16,
   "id": "2359abe5-eb0b-42c7-a706-3740a79e38b5",
   "metadata": {},
   "outputs": [
    {
     "data": {
      "text/plain": [
       "('S', 't', 'r', 'i', 'n')"
      ]
     },
     "execution_count": 16,
     "metadata": {},
     "output_type": "execute_result"
    }
   ],
   "source": [
    "tup[0:5]"
   ]
  },
  {
   "cell_type": "code",
   "execution_count": 17,
   "id": "fbee90a1-0725-4552-8300-69e334d764b8",
   "metadata": {},
   "outputs": [
    {
     "data": {
      "text/plain": [
       "((4, 5, 6), (7, 8))"
      ]
     },
     "execution_count": 17,
     "metadata": {},
     "output_type": "execute_result"
    }
   ],
   "source": [
    "nested_tup = (4,5,6),(7,8)\n",
    "nested_tup"
   ]
  },
  {
   "cell_type": "code",
   "execution_count": 18,
   "id": "a7da0d1f-1e8e-4a80-872c-5cf6bdc319f6",
   "metadata": {},
   "outputs": [
    {
     "data": {
      "text/plain": [
       "(7, 8)"
      ]
     },
     "execution_count": 18,
     "metadata": {},
     "output_type": "execute_result"
    }
   ],
   "source": [
    "nested_tup[1]"
   ]
  },
  {
   "cell_type": "code",
   "execution_count": 19,
   "id": "8b9d92ab-e95b-417f-bcf1-36c41463d182",
   "metadata": {},
   "outputs": [
    {
     "data": {
      "text/plain": [
       "(4, 5, 6)"
      ]
     },
     "execution_count": 19,
     "metadata": {},
     "output_type": "execute_result"
    }
   ],
   "source": [
    "nested_tup[0]"
   ]
  },
  {
   "cell_type": "code",
   "execution_count": 22,
   "id": "36710d15-f83c-4c35-adaf-50f5fcdee11d",
   "metadata": {},
   "outputs": [],
   "source": [
    "tup = tuple(['foo', [1,2], True])"
   ]
  },
  {
   "cell_type": "code",
   "execution_count": 24,
   "id": "43818173-35e1-40bd-b7b2-b6d6307a2cc8",
   "metadata": {},
   "outputs": [
    {
     "ename": "TypeError",
     "evalue": "'tuple' object does not support item assignment",
     "output_type": "error",
     "traceback": [
      "\u001b[1;31m---------------------------------------------------------------------------\u001b[0m",
      "\u001b[1;31mTypeError\u001b[0m                                 Traceback (most recent call last)",
      "Cell \u001b[1;32mIn[24], line 1\u001b[0m\n\u001b[1;32m----> 1\u001b[0m \u001b[43mtup\u001b[49m\u001b[43m[\u001b[49m\u001b[38;5;241;43m2\u001b[39;49m\u001b[43m]\u001b[49m \u001b[38;5;241m=\u001b[39m \u001b[38;5;28;01mFalse\u001b[39;00m\n",
      "\u001b[1;31mTypeError\u001b[0m: 'tuple' object does not support item assignment"
     ]
    }
   ],
   "source": [
    "tup[2] = False #tuple cant be modified"
   ]
  },
  {
   "cell_type": "code",
   "execution_count": 25,
   "id": "3c1890c1-3783-4373-b56b-59394097feac",
   "metadata": {},
   "outputs": [
    {
     "data": {
      "text/plain": [
       "('foo', [1, 2], True)"
      ]
     },
     "execution_count": 25,
     "metadata": {},
     "output_type": "execute_result"
    }
   ],
   "source": [
    "tup"
   ]
  },
  {
   "cell_type": "code",
   "execution_count": 27,
   "id": "595e063c-3bf9-4880-8acd-a269a0e4ec4f",
   "metadata": {},
   "outputs": [
    {
     "data": {
      "text/plain": [
       "(4, None, 'foo', 6, 0, 'bar')"
      ]
     },
     "execution_count": 27,
     "metadata": {},
     "output_type": "execute_result"
    }
   ],
   "source": [
    "(4,None,'foo') + (6,0) + ('bar',) #concatinating tuples using + sign to form a larger tuples"
   ]
  },
  {
   "cell_type": "code",
   "execution_count": 28,
   "id": "3adf11e0-265d-42ae-84ab-5c9a16e1653f",
   "metadata": {},
   "outputs": [
    {
     "data": {
      "text/plain": [
       "('food', 'bar', 'food', 'bar', 'food', 'bar', 'food', 'bar')"
      ]
     },
     "execution_count": 28,
     "metadata": {},
     "output_type": "execute_result"
    }
   ],
   "source": [
    "('food', 'bar') * 4"
   ]
  },
  {
   "cell_type": "code",
   "execution_count": 38,
   "id": "876006ba-d048-4474-8be8-f67e2c75d278",
   "metadata": {},
   "outputs": [],
   "source": [
    "tup = (4,5,6)\n",
    "a,b,c = tup"
   ]
  },
  {
   "cell_type": "code",
   "execution_count": 39,
   "id": "b183ebc5-7bc4-458a-90ec-ea7cb22f9297",
   "metadata": {},
   "outputs": [
    {
     "data": {
      "text/plain": [
       "5"
      ]
     },
     "execution_count": 39,
     "metadata": {},
     "output_type": "execute_result"
    }
   ],
   "source": [
    "b"
   ]
  },
  {
   "cell_type": "code",
   "execution_count": 40,
   "id": "0cdd45c2-c36c-44db-9f63-b19845e665cc",
   "metadata": {},
   "outputs": [],
   "source": [
    "tup = 4,5, (6,7)\n",
    "a,b,(c,d) = tup"
   ]
  },
  {
   "cell_type": "code",
   "execution_count": 42,
   "id": "7846caea-1189-4ec6-9574-de6c1bf7eb0a",
   "metadata": {},
   "outputs": [
    {
     "data": {
      "text/plain": [
       "6"
      ]
     },
     "execution_count": 42,
     "metadata": {},
     "output_type": "execute_result"
    }
   ],
   "source": [
    "c"
   ]
  },
  {
   "cell_type": "code",
   "execution_count": 44,
   "id": "f69b0d31-7bc6-4854-a2cf-bf504e27294b",
   "metadata": {},
   "outputs": [
    {
     "data": {
      "text/plain": [
       "1"
      ]
     },
     "execution_count": 44,
     "metadata": {},
     "output_type": "execute_result"
    }
   ],
   "source": [
    "a,b = 1,3\n",
    "a"
   ]
  },
  {
   "cell_type": "code",
   "execution_count": 45,
   "id": "5dec4bca-f15d-4359-a327-529e9e7741fd",
   "metadata": {},
   "outputs": [
    {
     "data": {
      "text/plain": [
       "3"
      ]
     },
     "execution_count": 45,
     "metadata": {},
     "output_type": "execute_result"
    }
   ],
   "source": [
    "b"
   ]
  },
  {
   "cell_type": "code",
   "execution_count": 46,
   "id": "7e87af79-8cc2-4538-bd1f-f327f2081836",
   "metadata": {},
   "outputs": [],
   "source": [
    "b,a = a,b #this is how swapping done in python "
   ]
  },
  {
   "cell_type": "code",
   "execution_count": 47,
   "id": "77f72d1f-eeae-4923-9558-03d4a1ae80af",
   "metadata": {},
   "outputs": [
    {
     "data": {
      "text/plain": [
       "1"
      ]
     },
     "execution_count": 47,
     "metadata": {},
     "output_type": "execute_result"
    }
   ],
   "source": [
    "b"
   ]
  },
  {
   "cell_type": "code",
   "execution_count": 48,
   "id": "0570a08b-630a-4faa-b020-1c192b1d95cb",
   "metadata": {},
   "outputs": [
    {
     "data": {
      "text/plain": [
       "3"
      ]
     },
     "execution_count": 48,
     "metadata": {},
     "output_type": "execute_result"
    }
   ],
   "source": [
    "a"
   ]
  },
  {
   "cell_type": "code",
   "execution_count": 49,
   "id": "47cd0ab2-a718-4167-bc18-a12ba0ae6da8",
   "metadata": {},
   "outputs": [
    {
     "data": {
      "text/plain": [
       "(3, 1)"
      ]
     },
     "execution_count": 49,
     "metadata": {},
     "output_type": "execute_result"
    }
   ],
   "source": [
    "a,b"
   ]
  },
  {
   "cell_type": "code",
   "execution_count": 52,
   "id": "faf69358-2982-4687-bfd6-cc46b4badc19",
   "metadata": {},
   "outputs": [
    {
     "name": "stdout",
     "output_type": "stream",
     "text": [
      "a=1, b=2, c=3\n",
      "a=4, b=5, c=6\n",
      "a=7, b=8, c=9\n"
     ]
    }
   ],
   "source": [
    "seq = [(1,2,3), (4,5,6), (7,8,9)]\n",
    "for a,b,c in seq:\n",
    "    print(f'a={a}, b={b}, c={c}')"
   ]
  },
  {
   "cell_type": "code",
   "execution_count": 54,
   "id": "b11a4222-c8a5-4668-8b5d-456c76b9389b",
   "metadata": {},
   "outputs": [],
   "source": [
    "values = 1,2,3,4,5\n",
    "a,b,*rest = values"
   ]
  },
  {
   "cell_type": "code",
   "execution_count": 55,
   "id": "8bcc510e-73b5-4764-afc6-561ed84ad0f3",
   "metadata": {},
   "outputs": [
    {
     "data": {
      "text/plain": [
       "1"
      ]
     },
     "execution_count": 55,
     "metadata": {},
     "output_type": "execute_result"
    }
   ],
   "source": [
    "a"
   ]
  },
  {
   "cell_type": "code",
   "execution_count": 56,
   "id": "bb2b9b41-cac8-40c5-b5cc-04b457b70c18",
   "metadata": {},
   "outputs": [
    {
     "data": {
      "text/plain": [
       "2"
      ]
     },
     "execution_count": 56,
     "metadata": {},
     "output_type": "execute_result"
    }
   ],
   "source": [
    "b"
   ]
  },
  {
   "cell_type": "code",
   "execution_count": 59,
   "id": "4f1a356a-0535-4d72-91a3-5d2d6ceab75f",
   "metadata": {},
   "outputs": [
    {
     "data": {
      "text/plain": [
       "[3, 4, 5]"
      ]
     },
     "execution_count": 59,
     "metadata": {},
     "output_type": "execute_result"
    }
   ],
   "source": [
    "rest"
   ]
  },
  {
   "cell_type": "code",
   "execution_count": 64,
   "id": "2254ad2b-93fc-45f6-852f-fd1dc8673bc7",
   "metadata": {},
   "outputs": [],
   "source": [
    "a,b,*_ = values"
   ]
  },
  {
   "cell_type": "code",
   "execution_count": 66,
   "id": "1340ac43-c06f-4724-b5f4-b43276e62411",
   "metadata": {},
   "outputs": [
    {
     "data": {
      "text/plain": [
       "[3, 4, 5]"
      ]
     },
     "execution_count": 66,
     "metadata": {},
     "output_type": "execute_result"
    }
   ],
   "source": [
    "_"
   ]
  },
  {
   "cell_type": "code",
   "execution_count": 67,
   "id": "4a19cd03-35ac-4637-b854-bfdc96174187",
   "metadata": {},
   "outputs": [
    {
     "data": {
      "text/plain": [
       "4"
      ]
     },
     "execution_count": 67,
     "metadata": {},
     "output_type": "execute_result"
    }
   ],
   "source": [
    "a = (1,2,2,2,3,4,2)\n",
    "a.count(2)"
   ]
  },
  {
   "cell_type": "code",
   "execution_count": 68,
   "id": "acb2ebf9-a213-400a-909a-83c595577505",
   "metadata": {},
   "outputs": [
    {
     "data": {
      "text/plain": [
       "1"
      ]
     },
     "execution_count": 68,
     "metadata": {},
     "output_type": "execute_result"
    }
   ],
   "source": [
    "a.count(3)"
   ]
  },
  {
   "cell_type": "code",
   "execution_count": 82,
   "id": "ec442d2f-1a68-4ab8-8b4f-8e3a01ca8208",
   "metadata": {},
   "outputs": [
    {
     "data": {
      "text/plain": [
       "['foo', 'bar', 'bazz']"
      ]
     },
     "execution_count": 82,
     "metadata": {},
     "output_type": "execute_result"
    }
   ],
   "source": [
    "a_list = [2,3,7,None]\n",
    "tup = ('foo', 'bar', 'bazz')\n",
    "b_list = list(tup)\n",
    "b_list"
   ]
  },
  {
   "cell_type": "code",
   "execution_count": 83,
   "id": "00d220a3-3e57-4930-8a05-e6c7d7f5e136",
   "metadata": {},
   "outputs": [],
   "source": [
    "b_list[1] = 'peekabo'"
   ]
  },
  {
   "cell_type": "code",
   "execution_count": 84,
   "id": "1e2f44be-1681-4a28-9dbf-9bc31004375e",
   "metadata": {},
   "outputs": [
    {
     "data": {
      "text/plain": [
       "['foo', 'peekabo', 'bazz']"
      ]
     },
     "execution_count": 84,
     "metadata": {},
     "output_type": "execute_result"
    }
   ],
   "source": [
    "b_list"
   ]
  },
  {
   "cell_type": "code",
   "execution_count": 85,
   "id": "73d79a51-b5ea-4f44-99f7-d8bcc07fe46d",
   "metadata": {},
   "outputs": [
    {
     "data": {
      "text/plain": [
       "range(0, 10)"
      ]
     },
     "execution_count": 85,
     "metadata": {},
     "output_type": "execute_result"
    }
   ],
   "source": [
    "gen = range(10)\n",
    "gen"
   ]
  },
  {
   "cell_type": "code",
   "execution_count": 86,
   "id": "b8b9201c-7e1f-40c3-b86e-379b62833ced",
   "metadata": {},
   "outputs": [
    {
     "data": {
      "text/plain": [
       "[0, 1, 2, 3, 4, 5, 6, 7, 8, 9]"
      ]
     },
     "execution_count": 86,
     "metadata": {},
     "output_type": "execute_result"
    }
   ],
   "source": [
    "list(gen)"
   ]
  },
  {
   "cell_type": "code",
   "execution_count": 87,
   "id": "f6f12274-0525-4d51-a115-57200d413b6f",
   "metadata": {},
   "outputs": [
    {
     "data": {
      "text/plain": [
       "['foo', 'peekabo', 'bazz', 'dwarf']"
      ]
     },
     "execution_count": 87,
     "metadata": {},
     "output_type": "execute_result"
    }
   ],
   "source": [
    "b_list.append('dwarf')\n",
    "b_list"
   ]
  },
  {
   "cell_type": "code",
   "execution_count": 88,
   "id": "e429efb6-4738-4a43-a27d-d1a12b2a3167",
   "metadata": {},
   "outputs": [],
   "source": [
    "b_list.insert(1, 'red')"
   ]
  },
  {
   "cell_type": "code",
   "execution_count": 89,
   "id": "eabca985-5978-40fc-99e6-28145d92bd64",
   "metadata": {},
   "outputs": [
    {
     "data": {
      "text/plain": [
       "['foo', 'red', 'peekabo', 'bazz', 'dwarf']"
      ]
     },
     "execution_count": 89,
     "metadata": {},
     "output_type": "execute_result"
    }
   ],
   "source": [
    "b_list"
   ]
  },
  {
   "cell_type": "code",
   "execution_count": 90,
   "id": "10175506-1d7b-4b21-8fd1-725bdd1cafb4",
   "metadata": {},
   "outputs": [
    {
     "data": {
      "text/plain": [
       "'peekabo'"
      ]
     },
     "execution_count": 90,
     "metadata": {},
     "output_type": "execute_result"
    }
   ],
   "source": [
    "b_list.pop(2)"
   ]
  },
  {
   "cell_type": "code",
   "execution_count": 91,
   "id": "27f557ce-4fba-4af9-b488-ba83513721d3",
   "metadata": {},
   "outputs": [
    {
     "data": {
      "text/plain": [
       "['foo', 'red', 'bazz', 'dwarf']"
      ]
     },
     "execution_count": 91,
     "metadata": {},
     "output_type": "execute_result"
    }
   ],
   "source": [
    "b_list"
   ]
  },
  {
   "cell_type": "code",
   "execution_count": 92,
   "id": "6dc70330-5966-4c4d-876d-48e086ede908",
   "metadata": {},
   "outputs": [
    {
     "data": {
      "text/plain": [
       "True"
      ]
     },
     "execution_count": 92,
     "metadata": {},
     "output_type": "execute_result"
    }
   ],
   "source": [
    "'dwarf' in b_list"
   ]
  },
  {
   "cell_type": "code",
   "execution_count": 94,
   "id": "570605ef-79af-4e44-88fe-81562bbdbaa1",
   "metadata": {},
   "outputs": [
    {
     "data": {
      "text/plain": [
       "True"
      ]
     },
     "execution_count": 94,
     "metadata": {},
     "output_type": "execute_result"
    }
   ],
   "source": [
    "'foo' in b_list"
   ]
  },
  {
   "cell_type": "code",
   "execution_count": 95,
   "id": "eac5d4b1-5a7a-4888-a42b-c9f2d74019d6",
   "metadata": {},
   "outputs": [
    {
     "data": {
      "text/plain": [
       "[4, None, 'foo', 7, 8, 9, 10]"
      ]
     },
     "execution_count": 95,
     "metadata": {},
     "output_type": "execute_result"
    }
   ],
   "source": [
    "a = [4, None, 'foo']\n",
    "b = [7,8,9,10]\n",
    "a+b #its the concatinating"
   ]
  },
  {
   "cell_type": "code",
   "execution_count": 97,
   "id": "0ba53aa0-e271-4dc2-8e6f-7a66b03a726f",
   "metadata": {},
   "outputs": [
    {
     "data": {
      "text/plain": [
       "[4, None, 'foo', 7, 8, 2, 3]"
      ]
     },
     "execution_count": 97,
     "metadata": {},
     "output_type": "execute_result"
    }
   ],
   "source": [
    "x = [4, None, 'foo']\n",
    "x.extend([7,8,2,3]) #Means add this one to our previous variable list\n",
    "x"
   ]
  },
  {
   "cell_type": "code",
   "execution_count": 98,
   "id": "719ac5f9-bacb-4d24-bc2c-f2394c502c70",
   "metadata": {},
   "outputs": [
    {
     "data": {
      "text/plain": [
       "[4, 6, 7, 8, 9]"
      ]
     },
     "execution_count": 98,
     "metadata": {},
     "output_type": "execute_result"
    }
   ],
   "source": [
    "a = [6,4,9,8,7]\n",
    "a.sort()\n",
    "a"
   ]
  },
  {
   "cell_type": "code",
   "execution_count": 102,
   "id": "630b492a-1f22-4904-bb71-b196de2ab6d5",
   "metadata": {},
   "outputs": [
    {
     "data": {
      "text/plain": [
       "['he', 'saw', 'six', 'small', 'foxes']"
      ]
     },
     "execution_count": 102,
     "metadata": {},
     "output_type": "execute_result"
    }
   ],
   "source": [
    "b = ['saw', 'small', 'he', 'foxes', 'six']\n",
    "b.sort(key=len) #sort it according to the keyword length\n",
    "b"
   ]
  },
  {
   "cell_type": "code",
   "execution_count": 120,
   "id": "6cd5cb1e-6bf2-4a30-ad13-98c9ecafefea",
   "metadata": {},
   "outputs": [],
   "source": [
    "seq = [3,4,5,6,7,8,9]"
   ]
  },
  {
   "cell_type": "code",
   "execution_count": 121,
   "id": "2fb93e38-82d9-40f7-9482-12a7121f600f",
   "metadata": {},
   "outputs": [
    {
     "data": {
      "text/plain": [
       "[3, 4, 5, 6, 7, 8, 9]"
      ]
     },
     "execution_count": 121,
     "metadata": {},
     "output_type": "execute_result"
    }
   ],
   "source": [
    "seq"
   ]
  },
  {
   "cell_type": "code",
   "execution_count": 124,
   "id": "84fb13bd-879b-4224-a493-cf2ffb90ce8a",
   "metadata": {},
   "outputs": [],
   "source": [
    "seq[3:5] = [0, 9, 8]"
   ]
  },
  {
   "cell_type": "code",
   "execution_count": 125,
   "id": "36b5bbee-127b-4d3b-8e17-b26f0cebfede",
   "metadata": {},
   "outputs": [
    {
     "data": {
      "text/plain": [
       "[3, 4, 5, 0, 9, 8, 8, 8, 9]"
      ]
     },
     "execution_count": 125,
     "metadata": {},
     "output_type": "execute_result"
    }
   ],
   "source": [
    "seq"
   ]
  },
  {
   "cell_type": "code",
   "execution_count": 127,
   "id": "bcd27064-7f9c-4c85-ad68-02a6a78bbfac",
   "metadata": {},
   "outputs": [
    {
     "data": {
      "text/plain": [
       "[3, 4, 5, 0, 9]"
      ]
     },
     "execution_count": 127,
     "metadata": {},
     "output_type": "execute_result"
    }
   ],
   "source": [
    "seq[:5]"
   ]
  },
  {
   "cell_type": "code",
   "execution_count": 128,
   "id": "1e986ad3-02aa-4dc6-921a-e1ce6d330797",
   "metadata": {},
   "outputs": [
    {
     "data": {
      "text/plain": [
       "[0, 9, 8, 8, 8, 9]"
      ]
     },
     "execution_count": 128,
     "metadata": {},
     "output_type": "execute_result"
    }
   ],
   "source": [
    "seq[3:]"
   ]
  },
  {
   "cell_type": "code",
   "execution_count": 132,
   "id": "2cbfeb8c-2751-4fe0-b0a8-c77034e73fc0",
   "metadata": {},
   "outputs": [
    {
     "data": {
      "text/plain": [
       "[9]"
      ]
     },
     "execution_count": 132,
     "metadata": {},
     "output_type": "execute_result"
    }
   ],
   "source": [
    "seq[-1:]"
   ]
  },
  {
   "cell_type": "code",
   "execution_count": 133,
   "id": "ff35536f-2a8d-4dee-9117-d242ccbbe9c5",
   "metadata": {},
   "outputs": [
    {
     "data": {
      "text/plain": [
       "[3, 5, 9, 8, 9]"
      ]
     },
     "execution_count": 133,
     "metadata": {},
     "output_type": "execute_result"
    }
   ],
   "source": [
    "seq[::2] #Its just like taking every other element"
   ]
  },
  {
   "cell_type": "code",
   "execution_count": 139,
   "id": "b67e3c6d-3d91-4aa0-a379-850b93973a7e",
   "metadata": {},
   "outputs": [
    {
     "data": {
      "text/plain": [
       "{'a': 'some value', 'b': 4}"
      ]
     },
     "execution_count": 139,
     "metadata": {},
     "output_type": "execute_result"
    }
   ],
   "source": [
    "empty_dict = {}\n",
    "d1 = {'a':'some value', 'b':4}\n",
    "d1"
   ]
  },
  {
   "cell_type": "code",
   "execution_count": 140,
   "id": "2c727f38-57b5-45e9-993b-69b6b65e00a6",
   "metadata": {},
   "outputs": [],
   "source": [
    "d1[7] = 'an integer' #inserting dictionaries"
   ]
  },
  {
   "cell_type": "code",
   "execution_count": 141,
   "id": "a458e64c-76e0-410b-a27b-8ed9ec1ca47c",
   "metadata": {},
   "outputs": [
    {
     "data": {
      "text/plain": [
       "{'a': 'some value', 'b': 4, 7: 'an integer'}"
      ]
     },
     "execution_count": 141,
     "metadata": {},
     "output_type": "execute_result"
    }
   ],
   "source": [
    "d1"
   ]
  },
  {
   "cell_type": "code",
   "execution_count": 144,
   "id": "d0b1bb9d-b214-40bc-bf07-f709be3462d0",
   "metadata": {},
   "outputs": [
    {
     "data": {
      "text/plain": [
       "{'a': 'zulqarnain', 'b': 4, 7: 'an integer'}"
      ]
     },
     "execution_count": 144,
     "metadata": {},
     "output_type": "execute_result"
    }
   ],
   "source": [
    "d1['a'] = 'zulqarnain'\n"
   ]
  },
  {
   "cell_type": "code",
   "execution_count": 145,
   "id": "82e372d5-e601-4566-ad86-672a61b0a834",
   "metadata": {},
   "outputs": [
    {
     "data": {
      "text/plain": [
       "{'a': 'zulqarnain', 'b': 4, 7: 'an integer', 4: 5}"
      ]
     },
     "execution_count": 145,
     "metadata": {},
     "output_type": "execute_result"
    }
   ],
   "source": [
    "d1[4] = 5\n",
    "d1"
   ]
  },
  {
   "cell_type": "code",
   "execution_count": 153,
   "id": "e9ee62bf-0b82-4bbb-aab0-85c0bd55f25a",
   "metadata": {},
   "outputs": [
    {
     "data": {
      "text/plain": [
       "True"
      ]
     },
     "execution_count": 153,
     "metadata": {},
     "output_type": "execute_result"
    }
   ],
   "source": [
    "'a' in d1"
   ]
  },
  {
   "cell_type": "code",
   "execution_count": 154,
   "id": "59066f65-7d61-492d-8a50-f8711deb1885",
   "metadata": {},
   "outputs": [
    {
     "data": {
      "text/plain": [
       "{'a': 'zulqarnain', 'b': 4, 7: 'an integer', 4: 5, 5: 'some value'}"
      ]
     },
     "execution_count": 154,
     "metadata": {},
     "output_type": "execute_result"
    }
   ],
   "source": [
    "d1[5] = 'some value'\n",
    "d1"
   ]
  },
  {
   "cell_type": "code",
   "execution_count": 155,
   "id": "47082416-b8f7-4d6d-b429-7bbd3563e310",
   "metadata": {},
   "outputs": [
    {
     "data": {
      "text/plain": [
       "{'a': 'zulqarnain',\n",
       " 'b': 4,\n",
       " 7: 'an integer',\n",
       " 4: 5,\n",
       " 5: 'some value',\n",
       " 'dummy': 'another value'}"
      ]
     },
     "execution_count": 155,
     "metadata": {},
     "output_type": "execute_result"
    }
   ],
   "source": [
    "d1['dummy'] = 'another value'\n",
    "d1"
   ]
  },
  {
   "cell_type": "code",
   "execution_count": 158,
   "id": "ca563208-be5e-4d80-8b68-5f174704cd74",
   "metadata": {},
   "outputs": [],
   "source": [
    "del d1['dummy']"
   ]
  },
  {
   "cell_type": "code",
   "execution_count": 159,
   "id": "4047ce5e-50c0-4a0b-b133-7acdf43bec5a",
   "metadata": {},
   "outputs": [
    {
     "data": {
      "text/plain": [
       "{'a': 'zulqarnain', 'b': 4, 7: 'an integer', 4: 5, 5: 'some value'}"
      ]
     },
     "execution_count": 159,
     "metadata": {},
     "output_type": "execute_result"
    }
   ],
   "source": [
    "d1"
   ]
  },
  {
   "cell_type": "code",
   "execution_count": 160,
   "id": "9c4fec40-7c42-4e58-bb42-a2f19f80fbac",
   "metadata": {},
   "outputs": [
    {
     "data": {
      "text/plain": [
       "{'a': 'zulqarnain', 'b': 4, 4: 5, 5: 'some value'}"
      ]
     },
     "execution_count": 160,
     "metadata": {},
     "output_type": "execute_result"
    }
   ],
   "source": [
    "del d1[7]\n",
    "d1"
   ]
  },
  {
   "cell_type": "code",
   "execution_count": 161,
   "id": "8c132933-466b-4364-9f29-08973a806e66",
   "metadata": {},
   "outputs": [],
   "source": [
    "del d1[4]"
   ]
  },
  {
   "cell_type": "code",
   "execution_count": 162,
   "id": "759e11c0-56dc-4862-9f1a-d071069da837",
   "metadata": {},
   "outputs": [
    {
     "data": {
      "text/plain": [
       "{'a': 'zulqarnain', 'b': 4, 5: 'some value'}"
      ]
     },
     "execution_count": 162,
     "metadata": {},
     "output_type": "execute_result"
    }
   ],
   "source": [
    "d1"
   ]
  },
  {
   "cell_type": "code",
   "execution_count": 163,
   "id": "99956ec6-86fd-4830-a287-206248a8e0f7",
   "metadata": {},
   "outputs": [
    {
     "data": {
      "text/plain": [
       "{'a': 'zulqarnain', 'b': 4}"
      ]
     },
     "execution_count": 163,
     "metadata": {},
     "output_type": "execute_result"
    }
   ],
   "source": [
    "del d1[5]\n",
    "d1"
   ]
  },
  {
   "cell_type": "code",
   "execution_count": 176,
   "id": "7694032b-6e6e-44a1-9b09-0b0b0a205930",
   "metadata": {},
   "outputs": [
    {
     "data": {
      "text/plain": [
       "{'a': 'zulqarnain', 'b': 'jabbar'}"
      ]
     },
     "execution_count": 176,
     "metadata": {},
     "output_type": "execute_result"
    }
   ],
   "source": [
    "d1['b'] = 'jabbar'\n",
    "d1"
   ]
  },
  {
   "cell_type": "code",
   "execution_count": 177,
   "id": "b3e0405e-05d2-40db-8273-e8a7320b4072",
   "metadata": {},
   "outputs": [
    {
     "data": {
      "text/plain": [
       "'jabbar'"
      ]
     },
     "execution_count": 177,
     "metadata": {},
     "output_type": "execute_result"
    }
   ],
   "source": [
    "d1.pop('b')\n"
   ]
  },
  {
   "cell_type": "code",
   "execution_count": 178,
   "id": "3ba5432b-caba-476a-869a-43cda290868e",
   "metadata": {},
   "outputs": [
    {
     "data": {
      "text/plain": [
       "{'a': 'zulqarnain'}"
      ]
     },
     "execution_count": 178,
     "metadata": {},
     "output_type": "execute_result"
    }
   ],
   "source": [
    "d1"
   ]
  },
  {
   "cell_type": "code",
   "execution_count": 180,
   "id": "09f280fb-d0f8-4345-88e3-c4851eb548e8",
   "metadata": {},
   "outputs": [
    {
     "data": {
      "text/plain": [
       "['a']"
      ]
     },
     "execution_count": 180,
     "metadata": {},
     "output_type": "execute_result"
    }
   ],
   "source": [
    "list(d1.keys())"
   ]
  },
  {
   "cell_type": "code",
   "execution_count": 181,
   "id": "40fb6b92-fc81-4cb3-89e9-ba238a53dff5",
   "metadata": {},
   "outputs": [
    {
     "data": {
      "text/plain": [
       "['zulqarnain']"
      ]
     },
     "execution_count": 181,
     "metadata": {},
     "output_type": "execute_result"
    }
   ],
   "source": [
    "list(d1.values())"
   ]
  },
  {
   "cell_type": "code",
   "execution_count": 182,
   "id": "0b05f664-d76b-4201-a09f-353b7d0d40ab",
   "metadata": {},
   "outputs": [
    {
     "data": {
      "text/plain": [
       "{'a': 'zulqarnain', 'b': 'foo', 'c': 12}"
      ]
     },
     "execution_count": 182,
     "metadata": {},
     "output_type": "execute_result"
    }
   ],
   "source": [
    "d1.update({'b': 'foo', 'c':12})\n",
    "d1"
   ]
  },
  {
   "cell_type": "code",
   "execution_count": 187,
   "id": "327e8f69-8cc9-4abc-9432-d706653a8857",
   "metadata": {},
   "outputs": [],
   "source": [
    "key_list = (1,2)\n",
    "value_list = ('Zulqarnain','Jabbar')"
   ]
  },
  {
   "cell_type": "code",
   "execution_count": 192,
   "id": "f3ee92a0-02bd-4437-9d81-d11a4752a405",
   "metadata": {},
   "outputs": [],
   "source": [
    "mapping = {}\n",
    "for key, value in zip(key_list, value_list):\n",
    "    mapping[key] = value"
   ]
  },
  {
   "cell_type": "code",
   "execution_count": 193,
   "id": "4c594e6b-9b6e-4668-af81-c743faa079ae",
   "metadata": {},
   "outputs": [
    {
     "data": {
      "text/plain": [
       "{1: 'Zulqarnain', 2: 'Jabbar'}"
      ]
     },
     "execution_count": 193,
     "metadata": {},
     "output_type": "execute_result"
    }
   ],
   "source": [
    "mapping"
   ]
  },
  {
   "cell_type": "code",
   "execution_count": 203,
   "id": "5b2aedd5-7b55-4f71-8b9e-874b73d23cb7",
   "metadata": {},
   "outputs": [
    {
     "data": {
      "text/plain": [
       "<zip at 0x1a39bfe6d80>"
      ]
     },
     "execution_count": 203,
     "metadata": {},
     "output_type": "execute_result"
    }
   ],
   "source": [
    "tuples = zip(range(5), reversed(range(5)))\n",
    "tuples"
   ]
  },
  {
   "cell_type": "code",
   "execution_count": 204,
   "id": "dc1e6200-503f-45c6-92ec-4b5a32875628",
   "metadata": {},
   "outputs": [
    {
     "data": {
      "text/plain": [
       "{0: 4, 1: 3, 2: 2, 3: 1, 4: 0}"
      ]
     },
     "execution_count": 204,
     "metadata": {},
     "output_type": "execute_result"
    }
   ],
   "source": [
    "mapping = dict(tuples) #converted tuples into dictionary by using dict\n",
    "mapping"
   ]
  },
  {
   "cell_type": "code",
   "execution_count": 205,
   "id": "2621de12-9f57-4e80-8cf9-a4ce3fbe0f97",
   "metadata": {},
   "outputs": [],
   "source": [
    "some_dict = {1:'Engineer'}"
   ]
  },
  {
   "cell_type": "code",
   "execution_count": 206,
   "id": "1bcefe46-28c8-45d3-9348-2ac38e8dae34",
   "metadata": {},
   "outputs": [
    {
     "ename": "NameError",
     "evalue": "name 'default_value' is not defined",
     "output_type": "error",
     "traceback": [
      "\u001b[1;31m---------------------------------------------------------------------------\u001b[0m",
      "\u001b[1;31mNameError\u001b[0m                                 Traceback (most recent call last)",
      "Cell \u001b[1;32mIn[206], line 4\u001b[0m\n\u001b[0;32m      2\u001b[0m     value \u001b[38;5;241m=\u001b[39m some_dict[key]\n\u001b[0;32m      3\u001b[0m \u001b[38;5;28;01melse\u001b[39;00m:\n\u001b[1;32m----> 4\u001b[0m     value\u001b[38;5;241m=\u001b[39m\u001b[43mdefault_value\u001b[49m\n",
      "\u001b[1;31mNameError\u001b[0m: name 'default_value' is not defined"
     ]
    }
   ],
   "source": [
    "if key in some_dict:\n",
    "    value = some_dict[key]\n",
    "else:\n",
    "    value=default_value"
   ]
  },
  {
   "cell_type": "code",
   "execution_count": 213,
   "id": "5c85c22f-9f89-45e8-abf6-1eaddac4814b",
   "metadata": {},
   "outputs": [
    {
     "data": {
      "text/plain": [
       "'engineer'"
      ]
     },
     "execution_count": 213,
     "metadata": {},
     "output_type": "execute_result"
    }
   ],
   "source": [
    "value = some_dict.get(key, 'engineer')\n",
    "value"
   ]
  },
  {
   "cell_type": "code",
   "execution_count": 215,
   "id": "71053dcb-f437-4619-a800-53fee6d912f1",
   "metadata": {},
   "outputs": [],
   "source": [
    "words = ['apple', 'bat', 'bar', 'atom', 'book']\n",
    "\n",
    "by_letter = {}\n",
    "\n",
    "for word in words: #word=apple\n",
    "    letter = word[0] #[a]\n",
    "    if letter not in by_letter: #a is not in upper empty diction then\n",
    "        by_letter[letter] = [word]  #then add complete word in the upper dictionaru\n",
    "\n",
    "    else:\n",
    "        by_letter[letter].append(word)"
   ]
  },
  {
   "cell_type": "code",
   "execution_count": 216,
   "id": "5f9a3eaa-b1d6-45ae-9bef-99e58e0372d0",
   "metadata": {},
   "outputs": [
    {
     "data": {
      "text/plain": [
       "{'a': ['apple', 'atom'], 'b': ['bat', 'bar', 'book']}"
      ]
     },
     "execution_count": 216,
     "metadata": {},
     "output_type": "execute_result"
    }
   ],
   "source": [
    "by_letter"
   ]
  },
  {
   "cell_type": "code",
   "execution_count": 217,
   "id": "704b8c3c-ece2-460f-a861-781508a1fd7c",
   "metadata": {},
   "outputs": [],
   "source": [
    "by_letter = {}\n",
    "\n",
    "for word in words:\n",
    "    letter = word[0]\n",
    "    by_letter.setdefault(letter,[]).append(word)"
   ]
  },
  {
   "cell_type": "code",
   "execution_count": 218,
   "id": "e4145992-6969-44e8-a852-64b16ac6a0cf",
   "metadata": {},
   "outputs": [
    {
     "data": {
      "text/plain": [
       "{'a': ['apple', 'atom'], 'b': ['bat', 'bar', 'book']}"
      ]
     },
     "execution_count": 218,
     "metadata": {},
     "output_type": "execute_result"
    }
   ],
   "source": [
    "by_letter"
   ]
  },
  {
   "cell_type": "code",
   "execution_count": 219,
   "id": "819502ea-0d37-4e59-93bd-eb99afebb6b8",
   "metadata": {},
   "outputs": [],
   "source": [
    "by_letter = {}\n",
    "\n",
    "for word in words:\n",
    "    letter = word[0]\n",
    "    by_letter.setdefault(letter,[]).append(word)\n"
   ]
  },
  {
   "cell_type": "code",
   "execution_count": 220,
   "id": "1ab35cfd-7917-4308-aed1-258f4e308854",
   "metadata": {},
   "outputs": [
    {
     "data": {
      "text/plain": [
       "{'a': ['apple', 'atom'], 'b': ['bat', 'bar', 'book']}"
      ]
     },
     "execution_count": 220,
     "metadata": {},
     "output_type": "execute_result"
    }
   ],
   "source": [
    "by_letter"
   ]
  },
  {
   "cell_type": "code",
   "execution_count": 222,
   "id": "c9626f33-bd83-42d7-ab58-3026f4622ee6",
   "metadata": {},
   "outputs": [
    {
     "name": "stdout",
     "output_type": "stream",
     "text": [
      "AI Engineer\n",
      "{'name': 'Ali', 'occupation': 'AI Engineer'}\n"
     ]
    }
   ],
   "source": [
    "student = {'name': 'Ali'} #key: the key is you want to search for, default value: the value to insert if key is not found\n",
    "grade = student.setdefault('occupation', 'AI Engineer') #insert this values if key doesnot exists \n",
    "print(grade)\n",
    "print(student)\n",
    "# Output: {'name': 'Ali', 'grade': '10th'}\n"
   ]
  },
  {
   "cell_type": "code",
   "execution_count": 223,
   "id": "eb0cea2d-81fe-4f19-8055-489433ae8514",
   "metadata": {},
   "outputs": [],
   "source": [
    "words = ['AI Engineer', 'Machine Learning Engineer', 'Data Scientist', 'Data Analyst']"
   ]
  },
  {
   "cell_type": "code",
   "execution_count": 226,
   "id": "db022afe-5929-4fc5-ad02-c4e03b48666a",
   "metadata": {},
   "outputs": [
    {
     "data": {
      "text/plain": [
       "{'A': ['AI Engineer'],\n",
       " 'M': ['Machine Learning Engineer'],\n",
       " 'D': ['Data Scientist', 'Data Analyst']}"
      ]
     },
     "execution_count": 226,
     "metadata": {},
     "output_type": "execute_result"
    }
   ],
   "source": [
    "by_letter = {}\n",
    "\n",
    "for word in words:\n",
    "    letter = word[0]\n",
    "    by_letter.setdefault(letter,[]).append(word)\n",
    "\n",
    "by_letter"
   ]
  },
  {
   "cell_type": "code",
   "execution_count": null,
   "id": "7ccc5db6-77c8-4e1f-a86a-73d6efb4f9d5",
   "metadata": {},
   "outputs": [],
   "source": []
  }
 ],
 "metadata": {
  "kernelspec": {
   "display_name": "Python 3 (ipykernel)",
   "language": "python",
   "name": "python3"
  },
  "language_info": {
   "codemirror_mode": {
    "name": "ipython",
    "version": 3
   },
   "file_extension": ".py",
   "mimetype": "text/x-python",
   "name": "python",
   "nbconvert_exporter": "python",
   "pygments_lexer": "ipython3",
   "version": "3.12.7"
  }
 },
 "nbformat": 4,
 "nbformat_minor": 5
}
